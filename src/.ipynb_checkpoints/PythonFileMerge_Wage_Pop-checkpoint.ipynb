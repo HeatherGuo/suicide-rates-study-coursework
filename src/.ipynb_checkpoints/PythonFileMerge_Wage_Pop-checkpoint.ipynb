{
 "cells": [
  {
   "cell_type": "code",
   "execution_count": 1,
   "metadata": {
    "ExecuteTime": {
     "end_time": "2019-01-05T14:27:58.341827Z",
     "start_time": "2019-01-05T14:27:56.294768Z"
    }
   },
   "outputs": [],
   "source": [
    "import pandas as pd\n",
    "from sklearn import linear_model\n",
    "import matplotlib.pyplot as plt\n",
    "from scipy.stats.stats import pearsonr"
   ]
  },
  {
   "cell_type": "markdown",
   "metadata": {},
   "source": [
    "## Wages"
   ]
  },
  {
   "cell_type": "markdown",
   "metadata": {},
   "source": [
    "### Merge File"
   ]
  },
  {
   "cell_type": "code",
   "execution_count": 22,
   "metadata": {
    "ExecuteTime": {
     "end_time": "2019-01-05T15:05:51.879012Z",
     "start_time": "2019-01-05T15:05:51.867585Z"
    }
   },
   "outputs": [],
   "source": [
    "countryMapping = {\n",
    "    'AUS': 'Australia', 'AUT': 'Austria', 'BEL': 'Belgium', 'BRA': 'Brazil',\n",
    "    'CAN': 'Canada', 'CHE': 'Switzerland', 'CHL': 'Chile', 'CHN': 'China', 'COL': 'Colombia',\n",
    "    'CRI': 'Costa Rica', 'CZE': 'Czech Republic', 'DEU': 'Germay', 'DNK': 'Denmark', 'ESP': 'Spain',\n",
    "    'EST': 'Estonia', 'FIN': 'Finland', 'FRA': 'France', 'GBR': 'United Kingdom', 'GRC': 'Greece',\n",
    "    'HUN': 'Hungary', 'IDN': 'Indonesia', 'IND': 'India', 'IRL': 'Ireland', 'ISL': 'Iceland',\n",
    "    'ISR': 'Isreal', 'ITA': 'Italy', 'JPN': 'Japan', 'KOR': 'Korea', 'LTU': 'Lithuania',\n",
    "    'LUX': 'Luxembourg', 'LVA': 'Latvia', 'MEX': 'Mexico', 'NLD': 'Netherlands', 'NOR': 'Norway',\n",
    "    'NZL': 'New Zealand', 'POL': 'Poland', 'PRT': 'Portugal', 'RUS': 'Russia', 'SVK': 'Slovak Republic',\n",
    "    'SVN': 'Slovenia', 'SWE': 'Sweden', 'TUR': 'Turkey', 'USA': 'United States of America', 'ZAF': 'South Africa'\n",
    "}"
   ]
  },
  {
   "cell_type": "code",
   "execution_count": 34,
   "metadata": {
    "ExecuteTime": {
     "end_time": "2019-01-05T17:08:31.146992Z",
     "start_time": "2019-01-05T17:08:24.954749Z"
    }
   },
   "outputs": [],
   "source": [
    "wage_file = '../avg_wages.csv'\n",
    "suicide_file = '../Adjusted Suicide Rate.csv'\n",
    "df_wage = pd.read_csv(wage_file)\n",
    "df_suicide = pd.read_csv(suicide_file)\n",
    "\n",
    "new_pd = pd.DataFrame(columns=['country', 'year', 'wage', 'cor'])\n",
    "\n",
    "# create new_pd to store mappedCountry from df_wage\n",
    "for index,row in df_wage.iterrows():\n",
    "    new_pd = new_pd.append({'country': countryMapping[row['LOCATION']], 'year': row['TIME'], 'wage': row['Value']}, ignore_index=True)\n"
   ]
  },
  {
   "cell_type": "code",
   "execution_count": 36,
   "metadata": {
    "ExecuteTime": {
     "end_time": "2019-01-05T17:29:39.652104Z",
     "start_time": "2019-01-05T17:29:39.617023Z"
    }
   },
   "outputs": [
    {
     "name": "stdout",
     "output_type": "stream",
     "text": [
      "(35,)\n"
     ]
    },
    {
     "data": {
      "text/html": [
       "<div>\n",
       "<style scoped>\n",
       "    .dataframe tbody tr th:only-of-type {\n",
       "        vertical-align: middle;\n",
       "    }\n",
       "\n",
       "    .dataframe tbody tr th {\n",
       "        vertical-align: top;\n",
       "    }\n",
       "\n",
       "    .dataframe thead th {\n",
       "        text-align: right;\n",
       "    }\n",
       "</style>\n",
       "<table border=\"1\" class=\"dataframe\">\n",
       "  <thead>\n",
       "    <tr style=\"text-align: right;\">\n",
       "      <th></th>\n",
       "      <th>country</th>\n",
       "      <th>year</th>\n",
       "      <th>wage</th>\n",
       "      <th>cor</th>\n",
       "    </tr>\n",
       "  </thead>\n",
       "  <tbody>\n",
       "    <tr>\n",
       "      <th>0</th>\n",
       "      <td>Australia</td>\n",
       "      <td>1990</td>\n",
       "      <td>36682.942425</td>\n",
       "      <td>NaN</td>\n",
       "    </tr>\n",
       "    <tr>\n",
       "      <th>1</th>\n",
       "      <td>Australia</td>\n",
       "      <td>1991</td>\n",
       "      <td>36776.247678</td>\n",
       "      <td>NaN</td>\n",
       "    </tr>\n",
       "    <tr>\n",
       "      <th>2</th>\n",
       "      <td>Australia</td>\n",
       "      <td>1992</td>\n",
       "      <td>37692.129358</td>\n",
       "      <td>NaN</td>\n",
       "    </tr>\n",
       "    <tr>\n",
       "      <th>3</th>\n",
       "      <td>Australia</td>\n",
       "      <td>1993</td>\n",
       "      <td>38112.690279</td>\n",
       "      <td>NaN</td>\n",
       "    </tr>\n",
       "    <tr>\n",
       "      <th>4</th>\n",
       "      <td>Australia</td>\n",
       "      <td>1994</td>\n",
       "      <td>38488.116634</td>\n",
       "      <td>NaN</td>\n",
       "    </tr>\n",
       "  </tbody>\n",
       "</table>\n",
       "</div>"
      ],
      "text/plain": [
       "     country  year          wage  cor\n",
       "0  Australia  1990  36682.942425  NaN\n",
       "1  Australia  1991  36776.247678  NaN\n",
       "2  Australia  1992  37692.129358  NaN\n",
       "3  Australia  1993  38112.690279  NaN\n",
       "4  Australia  1994  38488.116634  NaN"
      ]
     },
     "execution_count": 36,
     "metadata": {},
     "output_type": "execute_result"
    }
   ],
   "source": [
    "print(df_wage.LOCATION.unique().shape)\n",
    "new_pd.head()"
   ]
  },
  {
   "cell_type": "code",
   "execution_count": 37,
   "metadata": {
    "ExecuteTime": {
     "end_time": "2019-01-05T17:29:43.277778Z",
     "start_time": "2019-01-05T17:29:43.262666Z"
    }
   },
   "outputs": [
    {
     "data": {
      "text/html": [
       "<div>\n",
       "<style scoped>\n",
       "    .dataframe tbody tr th:only-of-type {\n",
       "        vertical-align: middle;\n",
       "    }\n",
       "\n",
       "    .dataframe tbody tr th {\n",
       "        vertical-align: top;\n",
       "    }\n",
       "\n",
       "    .dataframe thead th {\n",
       "        text-align: right;\n",
       "    }\n",
       "</style>\n",
       "<table border=\"1\" class=\"dataframe\">\n",
       "  <thead>\n",
       "    <tr style=\"text-align: right;\">\n",
       "      <th></th>\n",
       "      <th>country</th>\n",
       "      <th>year</th>\n",
       "      <th>suicide_rate</th>\n",
       "    </tr>\n",
       "  </thead>\n",
       "  <tbody>\n",
       "    <tr>\n",
       "      <th>0</th>\n",
       "      <td>Albania</td>\n",
       "      <td>1979</td>\n",
       "      <td>NaN</td>\n",
       "    </tr>\n",
       "    <tr>\n",
       "      <th>1</th>\n",
       "      <td>Albania</td>\n",
       "      <td>1980</td>\n",
       "      <td>NaN</td>\n",
       "    </tr>\n",
       "    <tr>\n",
       "      <th>2</th>\n",
       "      <td>Albania</td>\n",
       "      <td>1981</td>\n",
       "      <td>NaN</td>\n",
       "    </tr>\n",
       "    <tr>\n",
       "      <th>3</th>\n",
       "      <td>Albania</td>\n",
       "      <td>1982</td>\n",
       "      <td>NaN</td>\n",
       "    </tr>\n",
       "    <tr>\n",
       "      <th>4</th>\n",
       "      <td>Albania</td>\n",
       "      <td>1983</td>\n",
       "      <td>NaN</td>\n",
       "    </tr>\n",
       "  </tbody>\n",
       "</table>\n",
       "</div>"
      ],
      "text/plain": [
       "   country  year  suicide_rate\n",
       "0  Albania  1979           NaN\n",
       "1  Albania  1980           NaN\n",
       "2  Albania  1981           NaN\n",
       "3  Albania  1982           NaN\n",
       "4  Albania  1983           NaN"
      ]
     },
     "execution_count": 37,
     "metadata": {},
     "output_type": "execute_result"
    }
   ],
   "source": [
    "df_suicide.head()"
   ]
  },
  {
   "cell_type": "code",
   "execution_count": 38,
   "metadata": {
    "ExecuteTime": {
     "end_time": "2019-01-05T17:29:49.590731Z",
     "start_time": "2019-01-05T17:29:49.579732Z"
    }
   },
   "outputs": [
    {
     "name": "stdout",
     "output_type": "stream",
     "text": [
      "object int64 object object\n",
      "int64 int64\n"
     ]
    }
   ],
   "source": [
    "# convert type\n",
    "print(df_suicide['country'].dtype,df_suicide['year'].dtype, new_pd['country'].dtype, new_pd['year'].dtype)\n",
    "\n",
    "# Before merge, joined column should be converted to same data type\n",
    "new_pd['year'] = new_pd['year'].apply(int)\n",
    "\n",
    "# or do following\n",
    "# new_pd['year'] = new_pd['year'].astype(df_suicide['year'].dtype)\n",
    "\n",
    "print(new_pd['year'].dtype, df_suicide['year'].dtype)"
   ]
  },
  {
   "cell_type": "code",
   "execution_count": 39,
   "metadata": {
    "ExecuteTime": {
     "end_time": "2019-01-05T17:31:17.619021Z",
     "start_time": "2019-01-05T17:31:17.585335Z"
    }
   },
   "outputs": [
    {
     "data": {
      "text/html": [
       "<div>\n",
       "<style scoped>\n",
       "    .dataframe tbody tr th:only-of-type {\n",
       "        vertical-align: middle;\n",
       "    }\n",
       "\n",
       "    .dataframe tbody tr th {\n",
       "        vertical-align: top;\n",
       "    }\n",
       "\n",
       "    .dataframe thead th {\n",
       "        text-align: right;\n",
       "    }\n",
       "</style>\n",
       "<table border=\"1\" class=\"dataframe\">\n",
       "  <thead>\n",
       "    <tr style=\"text-align: right;\">\n",
       "      <th></th>\n",
       "      <th>country</th>\n",
       "      <th>year</th>\n",
       "      <th>suicide_rate</th>\n",
       "      <th>wage</th>\n",
       "      <th>cor</th>\n",
       "    </tr>\n",
       "  </thead>\n",
       "  <tbody>\n",
       "    <tr>\n",
       "      <th>0</th>\n",
       "      <td>Australia</td>\n",
       "      <td>1990</td>\n",
       "      <td>12.2</td>\n",
       "      <td>36682.942425</td>\n",
       "      <td>NaN</td>\n",
       "    </tr>\n",
       "    <tr>\n",
       "      <th>1</th>\n",
       "      <td>Australia</td>\n",
       "      <td>1991</td>\n",
       "      <td>12.5</td>\n",
       "      <td>36776.247678</td>\n",
       "      <td>NaN</td>\n",
       "    </tr>\n",
       "    <tr>\n",
       "      <th>2</th>\n",
       "      <td>Australia</td>\n",
       "      <td>1992</td>\n",
       "      <td>12.1</td>\n",
       "      <td>37692.129358</td>\n",
       "      <td>NaN</td>\n",
       "    </tr>\n",
       "    <tr>\n",
       "      <th>3</th>\n",
       "      <td>Australia</td>\n",
       "      <td>1993</td>\n",
       "      <td>10.8</td>\n",
       "      <td>38112.690279</td>\n",
       "      <td>NaN</td>\n",
       "    </tr>\n",
       "    <tr>\n",
       "      <th>4</th>\n",
       "      <td>Australia</td>\n",
       "      <td>1994</td>\n",
       "      <td>12.0</td>\n",
       "      <td>38488.116634</td>\n",
       "      <td>NaN</td>\n",
       "    </tr>\n",
       "  </tbody>\n",
       "</table>\n",
       "</div>"
      ],
      "text/plain": [
       "     country  year  suicide_rate          wage  cor\n",
       "0  Australia  1990          12.2  36682.942425  NaN\n",
       "1  Australia  1991          12.5  36776.247678  NaN\n",
       "2  Australia  1992          12.1  37692.129358  NaN\n",
       "3  Australia  1993          10.8  38112.690279  NaN\n",
       "4  Australia  1994          12.0  38488.116634  NaN"
      ]
     },
     "execution_count": 39,
     "metadata": {},
     "output_type": "execute_result"
    }
   ],
   "source": [
    "# merge\n",
    "df_merge = pd.merge(df_suicide, new_pd, left_on=['country', 'year'], right_on=['country', 'year'], how='inner')\n",
    "\n",
    "df_merge.head()"
   ]
  },
  {
   "cell_type": "code",
   "execution_count": 40,
   "metadata": {
    "ExecuteTime": {
     "end_time": "2019-01-05T17:31:18.808473Z",
     "start_time": "2019-01-05T17:31:18.782240Z"
    }
   },
   "outputs": [
    {
     "name": "stdout",
     "output_type": "stream",
     "text": [
      "[12.2 12.5 12.1]\n",
      "[36682.94242455 36776.24767829 37692.12935818]\n"
     ]
    },
    {
     "data": {
      "text/plain": [
       "array([[36682.94242455],\n",
       "       [36776.24767829],\n",
       "       [37692.12935818]])"
      ]
     },
     "execution_count": 40,
     "metadata": {},
     "output_type": "execute_result"
    }
   ],
   "source": [
    "# remove NaN\n",
    "suicide_rates = df_merge[(df_merge.country == 'Australia') & df_merge['suicide_rate'].notnull()].suicide_rate.values\n",
    "wages = df_merge[(df_merge.country == 'Australia') & df_merge['suicide_rate'].notnull()].wage.values\n",
    "\n",
    "print(suicide_rates[:3])\n",
    "print(wages[:3])\n",
    "\n",
    "# reshape doesn't change original data\n",
    "wages.reshape(-1,1)[:3]"
   ]
  },
  {
   "cell_type": "markdown",
   "metadata": {},
   "source": [
    "### Correlation"
   ]
  },
  {
   "cell_type": "code",
   "execution_count": 41,
   "metadata": {
    "ExecuteTime": {
     "end_time": "2019-01-05T17:31:24.621853Z",
     "start_time": "2019-01-05T17:31:24.609071Z"
    }
   },
   "outputs": [
    {
     "name": "stdout",
     "output_type": "stream",
     "text": [
      "-0.6217429710541293 0.0009072346899258495\n",
      "['Australia' 'Austria' 'Belgium' 'Canada' 'Chile' 'Czech Republic'\n",
      " 'Denmark' 'Estonia' 'Finland' 'France' 'Greece' 'Hungary' 'Iceland'\n",
      " 'Ireland' 'Italy' 'Japan' 'Latvia' 'Lithuania' 'Luxembourg' 'Mexico'\n",
      " 'Netherlands' 'New Zealand' 'Norway' 'Poland' 'Portugal' 'Slovenia'\n",
      " 'Spain' 'Sweden' 'Switzerland' 'United Kingdom'\n",
      " 'United States of America']\n"
     ]
    }
   ],
   "source": [
    "# Correlation\n",
    "cor, p = pearsonr(wages, suicide_rates)\n",
    "print(cor, p)\n",
    "print(df_merge.country.unique())"
   ]
  },
  {
   "cell_type": "code",
   "execution_count": 42,
   "metadata": {
    "ExecuteTime": {
     "end_time": "2019-01-05T17:35:23.527186Z",
     "start_time": "2019-01-05T17:35:23.204746Z"
    }
   },
   "outputs": [],
   "source": [
    "pd_suicide_rate_wage_cor = pd.DataFrame(columns=['country', 'cor', 'p'])\n",
    "\n",
    "for country in df_merge.country.unique():\n",
    "    suicide_rates = df_merge[(df_merge.country == country) & df_merge['suicide_rate'].notnull()].suicide_rate.values\n",
    "    wages = df_merge[(df_merge.country == country) & df_merge['suicide_rate'].notnull()].wage.values\n",
    "    cor, p = pearsonr(wages, suicide_rates)\n",
    "#     print(\"Country: %s, cor:%f, p:%f\"%(country, cor, p))\n",
    "    pd_suicide_rate_wage_cor = pd_suicide_rate_wage_cor.append({'country': country, 'cor': cor, 'p': p}, ignore_index=True)\n",
    "    \n",
    "    "
   ]
  },
  {
   "cell_type": "code",
   "execution_count": 43,
   "metadata": {
    "ExecuteTime": {
     "end_time": "2019-01-05T17:35:24.200380Z",
     "start_time": "2019-01-05T17:35:24.173180Z"
    }
   },
   "outputs": [
    {
     "data": {
      "text/html": [
       "<div>\n",
       "<style scoped>\n",
       "    .dataframe tbody tr th:only-of-type {\n",
       "        vertical-align: middle;\n",
       "    }\n",
       "\n",
       "    .dataframe tbody tr th {\n",
       "        vertical-align: top;\n",
       "    }\n",
       "\n",
       "    .dataframe thead th {\n",
       "        text-align: right;\n",
       "    }\n",
       "</style>\n",
       "<table border=\"1\" class=\"dataframe\">\n",
       "  <thead>\n",
       "    <tr style=\"text-align: right;\">\n",
       "      <th></th>\n",
       "      <th>country</th>\n",
       "      <th>cor</th>\n",
       "      <th>p</th>\n",
       "    </tr>\n",
       "  </thead>\n",
       "  <tbody>\n",
       "    <tr>\n",
       "      <th>0</th>\n",
       "      <td>Australia</td>\n",
       "      <td>-0.621743</td>\n",
       "      <td>9.072347e-04</td>\n",
       "    </tr>\n",
       "    <tr>\n",
       "      <th>1</th>\n",
       "      <td>Austria</td>\n",
       "      <td>-0.979314</td>\n",
       "      <td>7.234952e-19</td>\n",
       "    </tr>\n",
       "    <tr>\n",
       "      <th>2</th>\n",
       "      <td>Belgium</td>\n",
       "      <td>-0.444588</td>\n",
       "      <td>2.286961e-02</td>\n",
       "    </tr>\n",
       "    <tr>\n",
       "      <th>3</th>\n",
       "      <td>Canada</td>\n",
       "      <td>-0.899056</td>\n",
       "      <td>2.380221e-09</td>\n",
       "    </tr>\n",
       "    <tr>\n",
       "      <th>4</th>\n",
       "      <td>Chile</td>\n",
       "      <td>0.542317</td>\n",
       "      <td>1.349794e-02</td>\n",
       "    </tr>\n",
       "    <tr>\n",
       "      <th>5</th>\n",
       "      <td>Czech Republic</td>\n",
       "      <td>-0.832873</td>\n",
       "      <td>1.509612e-06</td>\n",
       "    </tr>\n",
       "    <tr>\n",
       "      <th>6</th>\n",
       "      <td>Denmark</td>\n",
       "      <td>-0.925605</td>\n",
       "      <td>6.877275e-10</td>\n",
       "    </tr>\n",
       "    <tr>\n",
       "      <th>7</th>\n",
       "      <td>Estonia</td>\n",
       "      <td>-0.949853</td>\n",
       "      <td>4.834080e-11</td>\n",
       "    </tr>\n",
       "    <tr>\n",
       "      <th>8</th>\n",
       "      <td>Finland</td>\n",
       "      <td>-0.950262</td>\n",
       "      <td>1.172255e-13</td>\n",
       "    </tr>\n",
       "    <tr>\n",
       "      <th>9</th>\n",
       "      <td>France</td>\n",
       "      <td>-0.948734</td>\n",
       "      <td>5.401196e-13</td>\n",
       "    </tr>\n",
       "    <tr>\n",
       "      <th>10</th>\n",
       "      <td>Greece</td>\n",
       "      <td>-0.469845</td>\n",
       "      <td>3.162520e-02</td>\n",
       "    </tr>\n",
       "    <tr>\n",
       "      <th>11</th>\n",
       "      <td>Hungary</td>\n",
       "      <td>-0.827447</td>\n",
       "      <td>2.028771e-06</td>\n",
       "    </tr>\n",
       "    <tr>\n",
       "      <th>12</th>\n",
       "      <td>Iceland</td>\n",
       "      <td>-0.123999</td>\n",
       "      <td>5.377539e-01</td>\n",
       "    </tr>\n",
       "    <tr>\n",
       "      <th>13</th>\n",
       "      <td>Ireland</td>\n",
       "      <td>-0.043595</td>\n",
       "      <td>8.360790e-01</td>\n",
       "    </tr>\n",
       "    <tr>\n",
       "      <th>14</th>\n",
       "      <td>Italy</td>\n",
       "      <td>-0.858269</td>\n",
       "      <td>2.064303e-08</td>\n",
       "    </tr>\n",
       "    <tr>\n",
       "      <th>15</th>\n",
       "      <td>Japan</td>\n",
       "      <td>0.401571</td>\n",
       "      <td>4.201058e-02</td>\n",
       "    </tr>\n",
       "    <tr>\n",
       "      <th>16</th>\n",
       "      <td>Latvia</td>\n",
       "      <td>-0.899654</td>\n",
       "      <td>6.772954e-08</td>\n",
       "    </tr>\n",
       "    <tr>\n",
       "      <th>17</th>\n",
       "      <td>Lithuania</td>\n",
       "      <td>-0.961404</td>\n",
       "      <td>1.128792e-12</td>\n",
       "    </tr>\n",
       "    <tr>\n",
       "      <th>18</th>\n",
       "      <td>Luxembourg</td>\n",
       "      <td>-0.778887</td>\n",
       "      <td>2.771587e-06</td>\n",
       "    </tr>\n",
       "    <tr>\n",
       "      <th>19</th>\n",
       "      <td>Mexico</td>\n",
       "      <td>0.444643</td>\n",
       "      <td>2.285072e-02</td>\n",
       "    </tr>\n",
       "    <tr>\n",
       "      <th>20</th>\n",
       "      <td>Netherlands</td>\n",
       "      <td>-0.079660</td>\n",
       "      <td>6.928667e-01</td>\n",
       "    </tr>\n",
       "    <tr>\n",
       "      <th>21</th>\n",
       "      <td>New Zealand</td>\n",
       "      <td>-0.690934</td>\n",
       "      <td>1.854561e-04</td>\n",
       "    </tr>\n",
       "    <tr>\n",
       "      <th>22</th>\n",
       "      <td>Norway</td>\n",
       "      <td>-0.793572</td>\n",
       "      <td>1.318919e-06</td>\n",
       "    </tr>\n",
       "    <tr>\n",
       "      <th>23</th>\n",
       "      <td>Poland</td>\n",
       "      <td>-0.127150</td>\n",
       "      <td>6.039542e-01</td>\n",
       "    </tr>\n",
       "    <tr>\n",
       "      <th>24</th>\n",
       "      <td>Portugal</td>\n",
       "      <td>0.229248</td>\n",
       "      <td>3.761085e-01</td>\n",
       "    </tr>\n",
       "    <tr>\n",
       "      <th>25</th>\n",
       "      <td>Slovenia</td>\n",
       "      <td>-0.956010</td>\n",
       "      <td>1.426829e-11</td>\n",
       "    </tr>\n",
       "    <tr>\n",
       "      <th>26</th>\n",
       "      <td>Spain</td>\n",
       "      <td>-0.534254</td>\n",
       "      <td>4.932165e-03</td>\n",
       "    </tr>\n",
       "    <tr>\n",
       "      <th>27</th>\n",
       "      <td>Sweden</td>\n",
       "      <td>-0.866168</td>\n",
       "      <td>5.305312e-09</td>\n",
       "    </tr>\n",
       "    <tr>\n",
       "      <th>28</th>\n",
       "      <td>Switzerland</td>\n",
       "      <td>-0.950071</td>\n",
       "      <td>4.642128e-11</td>\n",
       "    </tr>\n",
       "    <tr>\n",
       "      <th>29</th>\n",
       "      <td>United Kingdom</td>\n",
       "      <td>-0.791409</td>\n",
       "      <td>1.476772e-06</td>\n",
       "    </tr>\n",
       "    <tr>\n",
       "      <th>30</th>\n",
       "      <td>United States of America</td>\n",
       "      <td>0.186451</td>\n",
       "      <td>3.517565e-01</td>\n",
       "    </tr>\n",
       "  </tbody>\n",
       "</table>\n",
       "</div>"
      ],
      "text/plain": [
       "                     country       cor             p\n",
       "0                  Australia -0.621743  9.072347e-04\n",
       "1                    Austria -0.979314  7.234952e-19\n",
       "2                    Belgium -0.444588  2.286961e-02\n",
       "3                     Canada -0.899056  2.380221e-09\n",
       "4                      Chile  0.542317  1.349794e-02\n",
       "5             Czech Republic -0.832873  1.509612e-06\n",
       "6                    Denmark -0.925605  6.877275e-10\n",
       "7                    Estonia -0.949853  4.834080e-11\n",
       "8                    Finland -0.950262  1.172255e-13\n",
       "9                     France -0.948734  5.401196e-13\n",
       "10                    Greece -0.469845  3.162520e-02\n",
       "11                   Hungary -0.827447  2.028771e-06\n",
       "12                   Iceland -0.123999  5.377539e-01\n",
       "13                   Ireland -0.043595  8.360790e-01\n",
       "14                     Italy -0.858269  2.064303e-08\n",
       "15                     Japan  0.401571  4.201058e-02\n",
       "16                    Latvia -0.899654  6.772954e-08\n",
       "17                 Lithuania -0.961404  1.128792e-12\n",
       "18                Luxembourg -0.778887  2.771587e-06\n",
       "19                    Mexico  0.444643  2.285072e-02\n",
       "20               Netherlands -0.079660  6.928667e-01\n",
       "21               New Zealand -0.690934  1.854561e-04\n",
       "22                    Norway -0.793572  1.318919e-06\n",
       "23                    Poland -0.127150  6.039542e-01\n",
       "24                  Portugal  0.229248  3.761085e-01\n",
       "25                  Slovenia -0.956010  1.426829e-11\n",
       "26                     Spain -0.534254  4.932165e-03\n",
       "27                    Sweden -0.866168  5.305312e-09\n",
       "28               Switzerland -0.950071  4.642128e-11\n",
       "29            United Kingdom -0.791409  1.476772e-06\n",
       "30  United States of America  0.186451  3.517565e-01"
      ]
     },
     "execution_count": 43,
     "metadata": {},
     "output_type": "execute_result"
    }
   ],
   "source": [
    "pd_suicide_rate_wage_cor"
   ]
  },
  {
   "cell_type": "code",
   "execution_count": 44,
   "metadata": {
    "ExecuteTime": {
     "end_time": "2019-01-05T17:35:35.468856Z",
     "start_time": "2019-01-05T17:35:35.424002Z"
    }
   },
   "outputs": [
    {
     "name": "stdout",
     "output_type": "stream",
     "text": [
      "(6, 3)\n",
      "(0, 3) (17, 3) (0, 3) (0, 3) (3, 3) (5, 3)\n",
      "Series([], Name: country, dtype: object) \n",
      " 1            Austria\n",
      "3             Canada\n",
      "5     Czech Republic\n",
      "6            Denmark\n",
      "7            Estonia\n",
      "8            Finland\n",
      "9             France\n",
      "11           Hungary\n",
      "14             Italy\n",
      "16            Latvia\n",
      "17         Lithuania\n",
      "18        Luxembourg\n",
      "22            Norway\n",
      "25          Slovenia\n",
      "27            Sweden\n",
      "28       Switzerland\n",
      "29    United Kingdom\n",
      "Name: country, dtype: object \n",
      " Series([], Name: country, dtype: object) \n",
      " Series([], Name: country, dtype: object) \n",
      " 4      Chile\n",
      "15     Japan\n",
      "19    Mexico\n",
      "Name: country, dtype: object \n",
      " 0       Australia\n",
      "2         Belgium\n",
      "10         Greece\n",
      "21    New Zealand\n",
      "26          Spain\n",
      "Name: country, dtype: object\n",
      "12                     Iceland\n",
      "13                     Ireland\n",
      "20                 Netherlands\n",
      "23                      Poland\n",
      "24                    Portugal\n",
      "30    United States of America\n",
      "Name: country, dtype: object\n"
     ]
    }
   ],
   "source": [
    "large = pd_suicide_rate_wage_cor[(pd_suicide_rate_wage_cor.p <= 0.05) & (pd_suicide_rate_wage_cor.cor >= 0.7)]\n",
    "small = pd_suicide_rate_wage_cor[(pd_suicide_rate_wage_cor.p <= 0.05) & (pd_suicide_rate_wage_cor.cor <= 0.3) & (pd_suicide_rate_wage_cor.cor >=0)]\n",
    "median = pd_suicide_rate_wage_cor[(pd_suicide_rate_wage_cor.p <= 0.05) & (pd_suicide_rate_wage_cor.cor < 0.7) & (pd_suicide_rate_wage_cor.cor > 0.3)]\n",
    "\n",
    "m_large = pd_suicide_rate_wage_cor[(pd_suicide_rate_wage_cor.p <= 0.05) & (pd_suicide_rate_wage_cor.cor <= -0.7)]\n",
    "m_small = pd_suicide_rate_wage_cor[(pd_suicide_rate_wage_cor.p <= 0.05) & (pd_suicide_rate_wage_cor.cor >= -0.3) & (pd_suicide_rate_wage_cor.cor < 0)]\n",
    "m_median = pd_suicide_rate_wage_cor[(pd_suicide_rate_wage_cor.p <= 0.05) & (pd_suicide_rate_wage_cor.cor > -0.7) & (pd_suicide_rate_wage_cor.cor < -0.3)]\n",
    "\n",
    "rest = pd_suicide_rate_wage_cor[(pd_suicide_rate_wage_cor.p > 0.05)]\n",
    "print(rest.shape)\n",
    "print(large.shape, m_large.shape, small.shape, m_small.shape, median.shape, m_median.shape)\n",
    "print(large.country,'\\n', m_large.country, '\\n', small.country,'\\n', m_small.country,'\\n', median.country,'\\n', m_median.country)\n",
    "print(rest.country)\n",
    "\n"
   ]
  },
  {
   "cell_type": "code",
   "execution_count": 101,
   "metadata": {
    "ExecuteTime": {
     "end_time": "2019-01-03T20:07:12.024757Z",
     "start_time": "2019-01-03T20:07:12.010399Z"
    }
   },
   "outputs": [],
   "source": [
    "pd_suicide_rate_wage_cor.to_csv(\"suicide_rate_wages_cor.csv\")"
   ]
  },
  {
   "cell_type": "markdown",
   "metadata": {
    "ExecuteTime": {
     "end_time": "2019-01-03T19:08:16.746878Z",
     "start_time": "2019-01-03T19:08:16.743931Z"
    }
   },
   "source": [
    "### Regression"
   ]
  },
  {
   "cell_type": "code",
   "execution_count": 59,
   "metadata": {
    "ExecuteTime": {
     "end_time": "2019-01-03T18:56:57.837518Z",
     "start_time": "2019-01-03T18:56:57.831543Z"
    }
   },
   "outputs": [
    {
     "name": "stdout",
     "output_type": "stream",
     "text": [
      "[-0.00017065] 18.559641087977056\n"
     ]
    }
   ],
   "source": [
    "# Regression\n",
    "reg = linear_model.LinearRegression()\n",
    "\n",
    "# make wages to 1 dimension (wages.reshape(-1)), and then shape to 1 column shape\n",
    "reg.fit(wages.reshape(-1,1), suicide_rates)\n",
    "\n",
    "# slope and intercept\n",
    "print(reg.coef_, reg.intercept_)"
   ]
  },
  {
   "cell_type": "code",
   "execution_count": 60,
   "metadata": {
    "ExecuteTime": {
     "end_time": "2019-01-03T18:57:03.628402Z",
     "start_time": "2019-01-03T18:57:03.621896Z"
    }
   },
   "outputs": [
    {
     "data": {
      "text/plain": [
       "array([18.22004057])"
      ]
     },
     "execution_count": 60,
     "metadata": {},
     "output_type": "execute_result"
    }
   ],
   "source": [
    "reg.predict([[1990]])"
   ]
  },
  {
   "cell_type": "code",
   "execution_count": 62,
   "metadata": {
    "ExecuteTime": {
     "end_time": "2019-01-03T18:58:09.036774Z",
     "start_time": "2019-01-03T18:58:08.922632Z"
    }
   },
   "outputs": [
    {
     "data": {
      "image/png": "[encoded data removed]",
      "text/plain": [
       "<Figure size 432x288 with 1 Axes>"
      ]
     },
     "metadata": {
      "needs_background": "light"
     },
     "output_type": "display_data"
    }
   ],
   "source": [
    "line = reg.coef_*wages.reshape(-1, 1)+reg.intercept_\n",
    "\n",
    "plt.scatter(wages, suicide_rates)\n",
    "plt.plot(wages.reshape(-1,1), suicide_rates,'o', wages.reshape(-1,1), line)\n",
    "plt.show()\n"
   ]
  },
  {
   "cell_type": "code",
   "execution_count": 63,
   "metadata": {
    "ExecuteTime": {
     "end_time": "2019-01-03T18:58:13.804331Z",
     "start_time": "2019-01-03T18:58:13.795161Z"
    }
   },
   "outputs": [
    {
     "data": {
      "text/plain": [
       "0.38656432205521607"
      ]
     },
     "execution_count": 63,
     "metadata": {},
     "output_type": "execute_result"
    }
   ],
   "source": [
    "reg.score(wages.reshape(-1,1), suicide_rates)"
   ]
  },
  {
   "cell_type": "markdown",
   "metadata": {},
   "source": [
    "## Population density"
   ]
  },
  {
   "cell_type": "markdown",
   "metadata": {},
   "source": [
    "### merge file"
   ]
  },
  {
   "cell_type": "code",
   "execution_count": 3,
   "metadata": {
    "ExecuteTime": {
     "end_time": "2019-01-05T14:29:34.848572Z",
     "start_time": "2019-01-05T14:29:28.961487Z"
    }
   },
   "outputs": [],
   "source": [
    "pop_file = '../population_density.csv'\n",
    "suicide_file = '../Adjusted Suicide Rate.csv'\n",
    "df_pop = pd.read_csv(pop_file)\n",
    "df_suicide = pd.read_csv(suicide_file)\n",
    "\n",
    "countries = [\n",
    "    'AUS', 'AUT', 'BEL', 'BRA',\n",
    "    'CAN', 'CHE', 'CHL', 'CHN', 'COL',\n",
    "    'CRI', 'CZE', 'DEU', 'DNK', 'ESP',\n",
    "    'EST', 'FIN', 'FRA', 'GBR', 'GRC',\n",
    "    'HUN', 'IDN', 'IND', 'IRL', 'ISL',\n",
    "    'ISR', 'ITA', 'JPN', 'KOR', 'LTU',\n",
    "    'LUX', 'LVA', 'MEX', 'NLD', 'NOR',\n",
    "    'NZL', 'POL', 'PRT', 'RUS', 'SVK',\n",
    "    'SVN', 'SWE', 'TUR', 'USA', 'ZAF'\n",
    "]\n",
    "\n",
    "# filter out unnecessary country district\n",
    "df_pop_filtered = df_pop[df_pop['METRO_ID'].isin(countries)]\n",
    "\n",
    "new_pd = pd.DataFrame(columns=['country', 'year', 'type', 'value', 'cor'])\n",
    "\n",
    "# create new_pd to store mappedCountry from df_wage\n",
    "for index,row in df_pop_filtered.iterrows():\n",
    "    new_pd = new_pd.append({'country': countryMapping[row['METRO_ID']], 'year': row['TIME'], 'type': row['VAR'], 'value': row['Value']}, ignore_index=True)\n"
   ]
  },
  {
   "cell_type": "code",
   "execution_count": 7,
   "metadata": {
    "ExecuteTime": {
     "end_time": "2019-01-05T14:34:10.311965Z",
     "start_time": "2019-01-05T14:34:10.283661Z"
    }
   },
   "outputs": [
    {
     "name": "stdout",
     "output_type": "stream",
     "text": [
      "(29,)\n"
     ]
    },
    {
     "data": {
      "text/html": [
       "<div>\n",
       "<style scoped>\n",
       "    .dataframe tbody tr th:only-of-type {\n",
       "        vertical-align: middle;\n",
       "    }\n",
       "\n",
       "    .dataframe tbody tr th {\n",
       "        vertical-align: top;\n",
       "    }\n",
       "\n",
       "    .dataframe thead th {\n",
       "        text-align: right;\n",
       "    }\n",
       "</style>\n",
       "<table border=\"1\" class=\"dataframe\">\n",
       "  <thead>\n",
       "    <tr style=\"text-align: right;\">\n",
       "      <th></th>\n",
       "      <th>country</th>\n",
       "      <th>year</th>\n",
       "      <th>type</th>\n",
       "      <th>value</th>\n",
       "      <th>cor</th>\n",
       "    </tr>\n",
       "  </thead>\n",
       "  <tbody>\n",
       "    <tr>\n",
       "      <th>0</th>\n",
       "      <td>Austria</td>\n",
       "      <td>2000</td>\n",
       "      <td>POP</td>\n",
       "      <td>8002186.0</td>\n",
       "      <td>NaN</td>\n",
       "    </tr>\n",
       "    <tr>\n",
       "      <th>1</th>\n",
       "      <td>Austria</td>\n",
       "      <td>2001</td>\n",
       "      <td>POP</td>\n",
       "      <td>8020946.0</td>\n",
       "      <td>NaN</td>\n",
       "    </tr>\n",
       "    <tr>\n",
       "      <th>2</th>\n",
       "      <td>Austria</td>\n",
       "      <td>2002</td>\n",
       "      <td>POP</td>\n",
       "      <td>8063640.0</td>\n",
       "      <td>NaN</td>\n",
       "    </tr>\n",
       "    <tr>\n",
       "      <th>3</th>\n",
       "      <td>Austria</td>\n",
       "      <td>2003</td>\n",
       "      <td>POP</td>\n",
       "      <td>8100273.0</td>\n",
       "      <td>NaN</td>\n",
       "    </tr>\n",
       "    <tr>\n",
       "      <th>4</th>\n",
       "      <td>Austria</td>\n",
       "      <td>2004</td>\n",
       "      <td>POP</td>\n",
       "      <td>8142573.0</td>\n",
       "      <td>NaN</td>\n",
       "    </tr>\n",
       "  </tbody>\n",
       "</table>\n",
       "</div>"
      ],
      "text/plain": [
       "   country  year type      value  cor\n",
       "0  Austria  2000  POP  8002186.0  NaN\n",
       "1  Austria  2001  POP  8020946.0  NaN\n",
       "2  Austria  2002  POP  8063640.0  NaN\n",
       "3  Austria  2003  POP  8100273.0  NaN\n",
       "4  Austria  2004  POP  8142573.0  NaN"
      ]
     },
     "execution_count": 7,
     "metadata": {},
     "output_type": "execute_result"
    }
   ],
   "source": [
    "print(df_pop_filtered.METRO_ID.unique().shape)\n",
    "new_pd.head()"
   ]
  },
  {
   "cell_type": "code",
   "execution_count": 8,
   "metadata": {
    "ExecuteTime": {
     "end_time": "2019-01-05T14:34:19.145723Z",
     "start_time": "2019-01-05T14:34:19.121578Z"
    }
   },
   "outputs": [
    {
     "data": {
      "text/html": [
       "<div>\n",
       "<style scoped>\n",
       "    .dataframe tbody tr th:only-of-type {\n",
       "        vertical-align: middle;\n",
       "    }\n",
       "\n",
       "    .dataframe tbody tr th {\n",
       "        vertical-align: top;\n",
       "    }\n",
       "\n",
       "    .dataframe thead th {\n",
       "        text-align: right;\n",
       "    }\n",
       "</style>\n",
       "<table border=\"1\" class=\"dataframe\">\n",
       "  <thead>\n",
       "    <tr style=\"text-align: right;\">\n",
       "      <th></th>\n",
       "      <th>country</th>\n",
       "      <th>year</th>\n",
       "      <th>suicide_rate</th>\n",
       "    </tr>\n",
       "  </thead>\n",
       "  <tbody>\n",
       "    <tr>\n",
       "      <th>0</th>\n",
       "      <td>Albania</td>\n",
       "      <td>1979</td>\n",
       "      <td>NaN</td>\n",
       "    </tr>\n",
       "    <tr>\n",
       "      <th>1</th>\n",
       "      <td>Albania</td>\n",
       "      <td>1980</td>\n",
       "      <td>NaN</td>\n",
       "    </tr>\n",
       "    <tr>\n",
       "      <th>2</th>\n",
       "      <td>Albania</td>\n",
       "      <td>1981</td>\n",
       "      <td>NaN</td>\n",
       "    </tr>\n",
       "    <tr>\n",
       "      <th>3</th>\n",
       "      <td>Albania</td>\n",
       "      <td>1982</td>\n",
       "      <td>NaN</td>\n",
       "    </tr>\n",
       "    <tr>\n",
       "      <th>4</th>\n",
       "      <td>Albania</td>\n",
       "      <td>1983</td>\n",
       "      <td>NaN</td>\n",
       "    </tr>\n",
       "  </tbody>\n",
       "</table>\n",
       "</div>"
      ],
      "text/plain": [
       "   country  year  suicide_rate\n",
       "0  Albania  1979           NaN\n",
       "1  Albania  1980           NaN\n",
       "2  Albania  1981           NaN\n",
       "3  Albania  1982           NaN\n",
       "4  Albania  1983           NaN"
      ]
     },
     "execution_count": 8,
     "metadata": {},
     "output_type": "execute_result"
    }
   ],
   "source": [
    "df_suicide.head()"
   ]
  },
  {
   "cell_type": "code",
   "execution_count": 9,
   "metadata": {
    "ExecuteTime": {
     "end_time": "2019-01-05T14:35:04.467479Z",
     "start_time": "2019-01-05T14:35:04.451242Z"
    }
   },
   "outputs": [
    {
     "name": "stdout",
     "output_type": "stream",
     "text": [
      "object int64 object object\n",
      "int64 int64\n"
     ]
    }
   ],
   "source": [
    "# convert type\n",
    "print(df_suicide['country'].dtype,df_suicide['year'].dtype, new_pd['country'].dtype, new_pd['year'].dtype)\n",
    "\n",
    "# Before merge, joined column should be converted to same data type\n",
    "# new_pd['year'] = new_pd['year'].apply(int)\n",
    "\n",
    "# or do following\n",
    "new_pd['year'] = new_pd['year'].astype(df_suicide['year'].dtype)\n",
    "\n",
    "print(new_pd['year'].dtype, df_suicide['year'].dtype)"
   ]
  },
  {
   "cell_type": "code",
   "execution_count": 10,
   "metadata": {
    "ExecuteTime": {
     "end_time": "2019-01-05T14:35:06.380572Z",
     "start_time": "2019-01-05T14:35:06.341939Z"
    }
   },
   "outputs": [
    {
     "data": {
      "text/html": [
       "<div>\n",
       "<style scoped>\n",
       "    .dataframe tbody tr th:only-of-type {\n",
       "        vertical-align: middle;\n",
       "    }\n",
       "\n",
       "    .dataframe tbody tr th {\n",
       "        vertical-align: top;\n",
       "    }\n",
       "\n",
       "    .dataframe thead th {\n",
       "        text-align: right;\n",
       "    }\n",
       "</style>\n",
       "<table border=\"1\" class=\"dataframe\">\n",
       "  <thead>\n",
       "    <tr style=\"text-align: right;\">\n",
       "      <th></th>\n",
       "      <th>country</th>\n",
       "      <th>year</th>\n",
       "      <th>suicide_rate</th>\n",
       "      <th>type</th>\n",
       "      <th>value</th>\n",
       "      <th>cor</th>\n",
       "    </tr>\n",
       "  </thead>\n",
       "  <tbody>\n",
       "    <tr>\n",
       "      <th>0</th>\n",
       "      <td>Australia</td>\n",
       "      <td>2000</td>\n",
       "      <td>11.7</td>\n",
       "      <td>POP</td>\n",
       "      <td>19028802.00</td>\n",
       "      <td>NaN</td>\n",
       "    </tr>\n",
       "    <tr>\n",
       "      <th>1</th>\n",
       "      <td>Australia</td>\n",
       "      <td>2000</td>\n",
       "      <td>11.7</td>\n",
       "      <td>POP_DENS</td>\n",
       "      <td>2.47</td>\n",
       "      <td>NaN</td>\n",
       "    </tr>\n",
       "    <tr>\n",
       "      <th>2</th>\n",
       "      <td>Australia</td>\n",
       "      <td>2001</td>\n",
       "      <td>11.8</td>\n",
       "      <td>POP</td>\n",
       "      <td>19274701.00</td>\n",
       "      <td>NaN</td>\n",
       "    </tr>\n",
       "    <tr>\n",
       "      <th>3</th>\n",
       "      <td>Australia</td>\n",
       "      <td>2001</td>\n",
       "      <td>11.8</td>\n",
       "      <td>POP_DENS</td>\n",
       "      <td>2.50</td>\n",
       "      <td>NaN</td>\n",
       "    </tr>\n",
       "    <tr>\n",
       "      <th>4</th>\n",
       "      <td>Australia</td>\n",
       "      <td>2002</td>\n",
       "      <td>11.0</td>\n",
       "      <td>POP</td>\n",
       "      <td>19495210.00</td>\n",
       "      <td>NaN</td>\n",
       "    </tr>\n",
       "  </tbody>\n",
       "</table>\n",
       "</div>"
      ],
      "text/plain": [
       "     country  year  suicide_rate      type        value  cor\n",
       "0  Australia  2000          11.7       POP  19028802.00  NaN\n",
       "1  Australia  2000          11.7  POP_DENS         2.47  NaN\n",
       "2  Australia  2001          11.8       POP  19274701.00  NaN\n",
       "3  Australia  2001          11.8  POP_DENS         2.50  NaN\n",
       "4  Australia  2002          11.0       POP  19495210.00  NaN"
      ]
     },
     "execution_count": 10,
     "metadata": {},
     "output_type": "execute_result"
    }
   ],
   "source": [
    "# merge\n",
    "df_merge = pd.merge(df_suicide, new_pd, left_on=['country', 'year'], right_on=['country', 'year'], how='inner')\n",
    "\n",
    "df_merge.head()"
   ]
  },
  {
   "cell_type": "code",
   "execution_count": 11,
   "metadata": {
    "ExecuteTime": {
     "end_time": "2019-01-05T14:35:25.080349Z",
     "start_time": "2019-01-05T14:35:25.042533Z"
    }
   },
   "outputs": [
    {
     "name": "stdout",
     "output_type": "stream",
     "text": [
      "(14,)\n",
      "(14,)\n",
      "(14,)\n"
     ]
    }
   ],
   "source": [
    "# devide pop and pop_dens and remove NaN\n",
    "suicide_rates_pop = df_merge[(df_merge.type == 'POP') & (df_merge.country == 'Australia') & df_merge['suicide_rate'].notnull()].suicide_rate.values\n",
    "pop = df_merge[(df_merge.type == 'POP') & (df_merge.country == 'Australia') & df_merge['suicide_rate'].notnull()].value.values\n",
    "\n",
    "suicide_rates_pop_dens = df_merge[(df_merge.type == 'POP_DENS') & (df_merge.country == 'Australia') & df_merge['suicide_rate'].notnull()].suicide_rate.values\n",
    "pop_dens = df_merge[(df_merge.type == 'POP_DENS') & (df_merge.country == 'Australia') & df_merge['suicide_rate'].notnull()].value.values\n",
    "\n",
    "print(suicide_rates_pop_dens.shape)\n",
    "print(pop.shape)\n",
    "print(pop_dens.shape)"
   ]
  },
  {
   "cell_type": "markdown",
   "metadata": {},
   "source": [
    "### Correlation"
   ]
  },
  {
   "cell_type": "code",
   "execution_count": 12,
   "metadata": {
    "ExecuteTime": {
     "end_time": "2019-01-05T14:36:02.252231Z",
     "start_time": "2019-01-05T14:36:02.231723Z"
    }
   },
   "outputs": [
    {
     "name": "stdout",
     "output_type": "stream",
     "text": [
      "-0.305895510850681 0.2875052196752849\n",
      "['Australia' 'Austria' 'Belgium' 'Canada' 'Chile' 'Czech Republic'\n",
      " 'Denmark' 'Estonia' 'Finland' 'France' 'Greece' 'Hungary' 'Ireland'\n",
      " 'Italy' 'Japan' 'Mexico' 'Netherlands' 'Norway' 'Poland' 'Portugal'\n",
      " 'Slovenia' 'Spain' 'Sweden' 'Switzerland' 'United Kingdom'\n",
      " 'United States of America']\n"
     ]
    }
   ],
   "source": [
    "# Correlation\n",
    "cor, p = pearsonr(pop, suicide_rates_pop)\n",
    "print(cor, p)\n",
    "print(df_merge.country.unique())"
   ]
  },
  {
   "cell_type": "code",
   "execution_count": 13,
   "metadata": {
    "ExecuteTime": {
     "end_time": "2019-01-05T14:36:37.812965Z",
     "start_time": "2019-01-05T14:36:37.481482Z"
    }
   },
   "outputs": [],
   "source": [
    "pd_suicide_rate_pop_dens_cor = pd.DataFrame(columns=['country', 'cor', 'p'])\n",
    "\n",
    "for country in df_merge.country.unique():\n",
    "    suicide_rates_pop_dens = df_merge[(df_merge.type == 'POP_DENS') & (df_merge.country == country) & df_merge['suicide_rate'].notnull()].suicide_rate.values\n",
    "    pop_dens = df_merge[(df_merge.type == 'POP_DENS') & (df_merge.country == country) & df_merge['suicide_rate'].notnull()].value.values\n",
    "    cor, p = pearsonr(pop_dens, suicide_rates_pop_dens)\n",
    "#     print(\"Country: %s, cor:%f, p:%f\"%(country, cor, p))\n",
    "    pd_suicide_rate_pop_dens_cor = pd_suicide_rate_pop_dens_cor.append({'country': country, 'cor': cor, 'p': p}, ignore_index=True)\n",
    "    \n",
    "    "
   ]
  },
  {
   "cell_type": "code",
   "execution_count": 15,
   "metadata": {
    "ExecuteTime": {
     "end_time": "2019-01-05T14:36:48.218139Z",
     "start_time": "2019-01-05T14:36:48.193386Z"
    }
   },
   "outputs": [
    {
     "data": {
      "text/html": [
       "<div>\n",
       "<style scoped>\n",
       "    .dataframe tbody tr th:only-of-type {\n",
       "        vertical-align: middle;\n",
       "    }\n",
       "\n",
       "    .dataframe tbody tr th {\n",
       "        vertical-align: top;\n",
       "    }\n",
       "\n",
       "    .dataframe thead th {\n",
       "        text-align: right;\n",
       "    }\n",
       "</style>\n",
       "<table border=\"1\" class=\"dataframe\">\n",
       "  <thead>\n",
       "    <tr style=\"text-align: right;\">\n",
       "      <th></th>\n",
       "      <th>country</th>\n",
       "      <th>cor</th>\n",
       "      <th>p</th>\n",
       "    </tr>\n",
       "  </thead>\n",
       "  <tbody>\n",
       "    <tr>\n",
       "      <th>0</th>\n",
       "      <td>Australia</td>\n",
       "      <td>-0.306135</td>\n",
       "      <td>2.871093e-01</td>\n",
       "    </tr>\n",
       "    <tr>\n",
       "      <th>1</th>\n",
       "      <td>Austria</td>\n",
       "      <td>-0.949784</td>\n",
       "      <td>6.255623e-08</td>\n",
       "    </tr>\n",
       "    <tr>\n",
       "      <th>2</th>\n",
       "      <td>Belgium</td>\n",
       "      <td>-0.854798</td>\n",
       "      <td>4.913009e-05</td>\n",
       "    </tr>\n",
       "    <tr>\n",
       "      <th>3</th>\n",
       "      <td>Canada</td>\n",
       "      <td>-0.739670</td>\n",
       "      <td>2.495791e-03</td>\n",
       "    </tr>\n",
       "    <tr>\n",
       "      <th>4</th>\n",
       "      <td>Chile</td>\n",
       "      <td>-0.021315</td>\n",
       "      <td>9.398975e-01</td>\n",
       "    </tr>\n",
       "    <tr>\n",
       "      <th>5</th>\n",
       "      <td>Czech Republic</td>\n",
       "      <td>-0.362404</td>\n",
       "      <td>1.843482e-01</td>\n",
       "    </tr>\n",
       "    <tr>\n",
       "      <th>6</th>\n",
       "      <td>Denmark</td>\n",
       "      <td>-0.741868</td>\n",
       "      <td>1.543563e-03</td>\n",
       "    </tr>\n",
       "    <tr>\n",
       "      <th>7</th>\n",
       "      <td>Estonia</td>\n",
       "      <td>0.935312</td>\n",
       "      <td>3.132007e-07</td>\n",
       "    </tr>\n",
       "    <tr>\n",
       "      <th>8</th>\n",
       "      <td>Finland</td>\n",
       "      <td>-0.928170</td>\n",
       "      <td>6.079515e-07</td>\n",
       "    </tr>\n",
       "    <tr>\n",
       "      <th>9</th>\n",
       "      <td>France</td>\n",
       "      <td>-0.931494</td>\n",
       "      <td>4.504544e-07</td>\n",
       "    </tr>\n",
       "    <tr>\n",
       "      <th>10</th>\n",
       "      <td>Greece</td>\n",
       "      <td>-0.127342</td>\n",
       "      <td>6.510853e-01</td>\n",
       "    </tr>\n",
       "    <tr>\n",
       "      <th>11</th>\n",
       "      <td>Hungary</td>\n",
       "      <td>0.953085</td>\n",
       "      <td>4.053426e-08</td>\n",
       "    </tr>\n",
       "    <tr>\n",
       "      <th>12</th>\n",
       "      <td>Ireland</td>\n",
       "      <td>-0.418870</td>\n",
       "      <td>1.201800e-01</td>\n",
       "    </tr>\n",
       "    <tr>\n",
       "      <th>13</th>\n",
       "      <td>Italy</td>\n",
       "      <td>-0.260792</td>\n",
       "      <td>3.478302e-01</td>\n",
       "    </tr>\n",
       "    <tr>\n",
       "      <th>14</th>\n",
       "      <td>Japan</td>\n",
       "      <td>0.539495</td>\n",
       "      <td>3.793255e-02</td>\n",
       "    </tr>\n",
       "    <tr>\n",
       "      <th>15</th>\n",
       "      <td>Mexico</td>\n",
       "      <td>0.905680</td>\n",
       "      <td>3.378577e-06</td>\n",
       "    </tr>\n",
       "    <tr>\n",
       "      <th>16</th>\n",
       "      <td>Netherlands</td>\n",
       "      <td>0.497165</td>\n",
       "      <td>5.936009e-02</td>\n",
       "    </tr>\n",
       "    <tr>\n",
       "      <th>17</th>\n",
       "      <td>Norway</td>\n",
       "      <td>-0.613307</td>\n",
       "      <td>1.503905e-02</td>\n",
       "    </tr>\n",
       "    <tr>\n",
       "      <th>18</th>\n",
       "      <td>Poland</td>\n",
       "      <td>0.289136</td>\n",
       "      <td>2.959258e-01</td>\n",
       "    </tr>\n",
       "    <tr>\n",
       "      <th>19</th>\n",
       "      <td>Portugal</td>\n",
       "      <td>0.461858</td>\n",
       "      <td>1.306465e-01</td>\n",
       "    </tr>\n",
       "    <tr>\n",
       "      <th>20</th>\n",
       "      <td>Slovenia</td>\n",
       "      <td>-0.854884</td>\n",
       "      <td>4.895231e-05</td>\n",
       "    </tr>\n",
       "    <tr>\n",
       "      <th>21</th>\n",
       "      <td>Spain</td>\n",
       "      <td>-0.633450</td>\n",
       "      <td>1.123629e-02</td>\n",
       "    </tr>\n",
       "    <tr>\n",
       "      <th>22</th>\n",
       "      <td>Sweden</td>\n",
       "      <td>-0.561009</td>\n",
       "      <td>2.957226e-02</td>\n",
       "    </tr>\n",
       "    <tr>\n",
       "      <th>23</th>\n",
       "      <td>Switzerland</td>\n",
       "      <td>-0.958665</td>\n",
       "      <td>1.804112e-08</td>\n",
       "    </tr>\n",
       "    <tr>\n",
       "      <th>24</th>\n",
       "      <td>United Kingdom</td>\n",
       "      <td>0.155974</td>\n",
       "      <td>5.788309e-01</td>\n",
       "    </tr>\n",
       "    <tr>\n",
       "      <th>25</th>\n",
       "      <td>United States of America</td>\n",
       "      <td>0.961530</td>\n",
       "      <td>1.138864e-08</td>\n",
       "    </tr>\n",
       "  </tbody>\n",
       "</table>\n",
       "</div>"
      ],
      "text/plain": [
       "                     country       cor             p\n",
       "0                  Australia -0.306135  2.871093e-01\n",
       "1                    Austria -0.949784  6.255623e-08\n",
       "2                    Belgium -0.854798  4.913009e-05\n",
       "3                     Canada -0.739670  2.495791e-03\n",
       "4                      Chile -0.021315  9.398975e-01\n",
       "5             Czech Republic -0.362404  1.843482e-01\n",
       "6                    Denmark -0.741868  1.543563e-03\n",
       "7                    Estonia  0.935312  3.132007e-07\n",
       "8                    Finland -0.928170  6.079515e-07\n",
       "9                     France -0.931494  4.504544e-07\n",
       "10                    Greece -0.127342  6.510853e-01\n",
       "11                   Hungary  0.953085  4.053426e-08\n",
       "12                   Ireland -0.418870  1.201800e-01\n",
       "13                     Italy -0.260792  3.478302e-01\n",
       "14                     Japan  0.539495  3.793255e-02\n",
       "15                    Mexico  0.905680  3.378577e-06\n",
       "16               Netherlands  0.497165  5.936009e-02\n",
       "17                    Norway -0.613307  1.503905e-02\n",
       "18                    Poland  0.289136  2.959258e-01\n",
       "19                  Portugal  0.461858  1.306465e-01\n",
       "20                  Slovenia -0.854884  4.895231e-05\n",
       "21                     Spain -0.633450  1.123629e-02\n",
       "22                    Sweden -0.561009  2.957226e-02\n",
       "23               Switzerland -0.958665  1.804112e-08\n",
       "24            United Kingdom  0.155974  5.788309e-01\n",
       "25  United States of America  0.961530  1.138864e-08"
      ]
     },
     "execution_count": 15,
     "metadata": {},
     "output_type": "execute_result"
    }
   ],
   "source": [
    "pd_suicide_rate_pop_dens_cor"
   ]
  },
  {
   "cell_type": "code",
   "execution_count": 33,
   "metadata": {
    "ExecuteTime": {
     "end_time": "2019-01-05T16:58:13.302473Z",
     "start_time": "2019-01-05T16:58:13.187648Z"
    }
   },
   "outputs": [
    {
     "name": "stdout",
     "output_type": "stream",
     "text": [
      "(10, 3)\n",
      "(4, 3) (8, 3) (0, 3) (0, 3) (1, 3) (3, 3)\n",
      "7                      Estonia\n",
      "11                     Hungary\n",
      "15                      Mexico\n",
      "25    United States of America\n",
      "Name: country, dtype: object \n",
      " 1         Austria\n",
      "2         Belgium\n",
      "3          Canada\n",
      "6         Denmark\n",
      "8         Finland\n",
      "9          France\n",
      "20       Slovenia\n",
      "23    Switzerland\n",
      "Name: country, dtype: object \n",
      " Series([], Name: country, dtype: object) \n",
      " Series([], Name: country, dtype: object) \n",
      " 14    Japan\n",
      "Name: country, dtype: object \n",
      " 17    Norway\n",
      "21     Spain\n",
      "22    Sweden\n",
      "Name: country, dtype: object\n",
      "0          Australia\n",
      "4              Chile\n",
      "5     Czech Republic\n",
      "10            Greece\n",
      "12           Ireland\n",
      "13             Italy\n",
      "16       Netherlands\n",
      "18            Poland\n",
      "19          Portugal\n",
      "24    United Kingdom\n",
      "Name: country, dtype: object\n"
     ]
    }
   ],
   "source": [
    "large = pd_suicide_rate_pop_dens_cor[(pd_suicide_rate_pop_dens_cor.p <= 0.05) & (pd_suicide_rate_pop_dens_cor.cor >= 0.7)]\n",
    "small = pd_suicide_rate_pop_dens_cor[(pd_suicide_rate_pop_dens_cor.p <= 0.05) & (pd_suicide_rate_pop_dens_cor.cor <= 0.3) & (pd_suicide_rate_pop_dens_cor.cor >=0)]\n",
    "median = pd_suicide_rate_pop_dens_cor[(pd_suicide_rate_pop_dens_cor.p <= 0.05) & (pd_suicide_rate_pop_dens_cor.cor < 0.7) & (pd_suicide_rate_pop_dens_cor.cor > 0.3)]\n",
    "\n",
    "m_large = pd_suicide_rate_pop_dens_cor[(pd_suicide_rate_pop_dens_cor.p <= 0.05) & (pd_suicide_rate_pop_dens_cor.cor <= -0.7)]\n",
    "m_small = pd_suicide_rate_pop_dens_cor[(pd_suicide_rate_pop_dens_cor.p <= 0.05) & (pd_suicide_rate_pop_dens_cor.cor >= -0.3) & (pd_suicide_rate_pop_dens_cor.cor < 0)]\n",
    "m_median = pd_suicide_rate_pop_dens_cor[(pd_suicide_rate_pop_dens_cor.p <= 0.05) & (pd_suicide_rate_pop_dens_cor.cor > -0.7) & (pd_suicide_rate_pop_dens_cor.cor < -0.3)]\n",
    "\n",
    "rest = pd_suicide_rate_pop_dens_cor[(pd_suicide_rate_pop_dens_cor.p > 0.05)]\n",
    "print(rest.shape)\n",
    "print(large.shape, m_large.shape, small.shape, m_small.shape, median.shape, m_median.shape)\n",
    "print(large.country,'\\n', m_large.country, '\\n', small.country,'\\n', m_small.country,'\\n', median.country,'\\n', m_median.country)\n",
    "print(rest.country)\n"
   ]
  },
  {
   "cell_type": "code",
   "execution_count": 144,
   "metadata": {
    "ExecuteTime": {
     "end_time": "2019-01-03T21:36:54.211046Z",
     "start_time": "2019-01-03T21:36:54.199775Z"
    }
   },
   "outputs": [],
   "source": [
    "pd_suicide_rate_pop_dens_cor.to_csv(\"suicide_rate_pop_dens_cor.csv\")"
   ]
  }
 ],
 "metadata": {
  "kernelspec": {
   "display_name": "Python 3",
   "language": "python",
   "name": "python3"
  },
  "language_info": {
   "codemirror_mode": {
    "name": "ipython",
    "version": 3
   },
   "file_extension": ".py",
   "mimetype": "text/x-python",
   "name": "python",
   "nbconvert_exporter": "python",
   "pygments_lexer": "ipython3",
   "version": "3.7.0"
  },
  "toc": {
   "base_numbering": 1,
   "nav_menu": {},
   "number_sections": true,
   "sideBar": true,
   "skip_h1_title": false,
   "title_cell": "Table of Contents",
   "title_sidebar": "Contents",
   "toc_cell": false,
   "toc_position": {},
   "toc_section_display": true,
   "toc_window_display": false
  },
  "varInspector": {
   "cols": {
    "lenName": 16,
    "lenType": 16,
    "lenVar": 40
   },
   "kernels_config": {
    "python": {
     "delete_cmd_postfix": "",
     "delete_cmd_prefix": "del ",
     "library": "var_list.py",
     "varRefreshCmd": "print(var_dic_list())"
    },
    "r": {
     "delete_cmd_postfix": ") ",
     "delete_cmd_prefix": "rm(",
     "library": "var_list.r",
     "varRefreshCmd": "cat(var_dic_list()) "
    }
   },
   "position": {
    "height": "391px",
    "left": "1129px",
    "right": "20px",
    "top": "120px",
    "width": "360px"
   },
   "types_to_exclude": [
    "module",
    "function",
    "builtin_function_or_method",
    "instance",
    "_Feature"
   ],
   "window_display": false
  }
 },
 "nbformat": 4,
 "nbformat_minor": 2
}
