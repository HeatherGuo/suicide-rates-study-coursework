{
 "cells": [
  {
   "cell_type": "code",
   "execution_count": 19,
   "metadata": {
    "ExecuteTime": {
     "end_time": "2019-01-03T18:34:02.317822Z",
     "start_time": "2019-01-03T18:34:02.314354Z"
    }
   },
   "outputs": [],
   "source": [
    "import pandas as pd\n",
    "from sklearn import linear_model\n",
    "import matplotlib.pyplot as plt\n",
    "from scipy.stats.stats import pearsonr"
   ]
  },
  {
   "cell_type": "markdown",
   "metadata": {},
   "source": [
    "## Wages"
   ]
  },
  {
   "cell_type": "markdown",
   "metadata": {},
   "source": [
    "### Merge File"
   ]
  },
  {
   "cell_type": "code",
   "execution_count": 5,
   "metadata": {
    "ExecuteTime": {
     "end_time": "2019-01-03T18:17:12.994190Z",
     "start_time": "2019-01-03T18:17:12.986460Z"
    }
   },
   "outputs": [],
   "source": [
    "countryMapping = {\n",
    "    'AUS': 'Australia', 'AUT': 'Austria', 'BEL': 'Belgium', 'BRA': 'Brazil',\n",
    "    'CAN': 'Canada', 'CHE': 'Switzerland', 'CHL': 'Chile', 'CHN': 'China', 'COL': 'Colombia',\n",
    "    'CRI': 'Costa Rica', 'CZE': 'Czech Republic', 'DEU': 'Germay', 'DNK': 'Denmark', 'ESP': 'Spain',\n",
    "    'EST': 'Estonia', 'FIN': 'Finland', 'FRA': 'France', 'GBR': 'United Kingdom', 'GRC': 'Greece',\n",
    "    'HUN': 'Hungary', 'IDN': 'Indonesia', 'IND': 'India', 'IRL': 'Ireland', 'ISL': 'Iceland',\n",
    "    'ISR': 'Isreal', 'ITA': 'Italy', 'JPN': 'Japan', 'KOR': 'Korea', 'LTU': 'Lithuania',\n",
    "    'LUX': 'Luxembourg', 'LVA': 'Latvia', 'MEX': 'Mexico', 'NLD': 'Netherlands', 'NOR': 'Norway',\n",
    "    'NZL': 'New Zealand', 'POL': 'Poland', 'PRT': 'Portugal', 'RUS': 'Russia', 'SVK': 'Slovak Republic',\n",
    "    'SVN': 'Slovenia', 'SWE': 'Sweden', 'TUR': 'Turkey', 'USA': 'United States of America', 'ZAF': 'South Africa'\n",
    "}"
   ]
  },
  {
   "cell_type": "code",
   "execution_count": 85,
   "metadata": {
    "ExecuteTime": {
     "end_time": "2019-01-03T19:34:42.932270Z",
     "start_time": "2019-01-03T19:34:40.755626Z"
    }
   },
   "outputs": [],
   "source": [
    "wage_file = '../avg_wages.csv'\n",
    "suicide_file = '../Adjusted Suicide Rate.csv'\n",
    "df_wage = pd.read_csv(wage_file)\n",
    "df_suicide = pd.read_csv(suicide_file)\n",
    "\n",
    "new_pd = pd.DataFrame(columns=['country', 'year', 'wage', 'cor'])\n",
    "\n",
    "# create new_pd to store mappedCountry from df_wage\n",
    "for index,row in df_wage.iterrows():\n",
    "    new_pd = new_pd.append({'country': countryMapping[row['LOCATION']], 'year': row['TIME'], 'wage': row['Value']}, ignore_index=True)\n"
   ]
  },
  {
   "cell_type": "code",
   "execution_count": 86,
   "metadata": {
    "ExecuteTime": {
     "end_time": "2019-01-03T19:34:43.046253Z",
     "start_time": "2019-01-03T19:34:43.034472Z"
    }
   },
   "outputs": [
    {
     "data": {
      "text/html": [
       "<div>\n",
       "<style scoped>\n",
       "    .dataframe tbody tr th:only-of-type {\n",
       "        vertical-align: middle;\n",
       "    }\n",
       "\n",
       "    .dataframe tbody tr th {\n",
       "        vertical-align: top;\n",
       "    }\n",
       "\n",
       "    .dataframe thead th {\n",
       "        text-align: right;\n",
       "    }\n",
       "</style>\n",
       "<table border=\"1\" class=\"dataframe\">\n",
       "  <thead>\n",
       "    <tr style=\"text-align: right;\">\n",
       "      <th></th>\n",
       "      <th>country</th>\n",
       "      <th>year</th>\n",
       "      <th>wage</th>\n",
       "      <th>cor</th>\n",
       "    </tr>\n",
       "  </thead>\n",
       "  <tbody>\n",
       "    <tr>\n",
       "      <th>0</th>\n",
       "      <td>Australia</td>\n",
       "      <td>1990</td>\n",
       "      <td>36682.942425</td>\n",
       "      <td>NaN</td>\n",
       "    </tr>\n",
       "    <tr>\n",
       "      <th>1</th>\n",
       "      <td>Australia</td>\n",
       "      <td>1991</td>\n",
       "      <td>36776.247678</td>\n",
       "      <td>NaN</td>\n",
       "    </tr>\n",
       "    <tr>\n",
       "      <th>2</th>\n",
       "      <td>Australia</td>\n",
       "      <td>1992</td>\n",
       "      <td>37692.129358</td>\n",
       "      <td>NaN</td>\n",
       "    </tr>\n",
       "    <tr>\n",
       "      <th>3</th>\n",
       "      <td>Australia</td>\n",
       "      <td>1993</td>\n",
       "      <td>38112.690279</td>\n",
       "      <td>NaN</td>\n",
       "    </tr>\n",
       "    <tr>\n",
       "      <th>4</th>\n",
       "      <td>Australia</td>\n",
       "      <td>1994</td>\n",
       "      <td>38488.116634</td>\n",
       "      <td>NaN</td>\n",
       "    </tr>\n",
       "  </tbody>\n",
       "</table>\n",
       "</div>"
      ],
      "text/plain": [
       "     country  year          wage  cor\n",
       "0  Australia  1990  36682.942425  NaN\n",
       "1  Australia  1991  36776.247678  NaN\n",
       "2  Australia  1992  37692.129358  NaN\n",
       "3  Australia  1993  38112.690279  NaN\n",
       "4  Australia  1994  38488.116634  NaN"
      ]
     },
     "execution_count": 86,
     "metadata": {},
     "output_type": "execute_result"
    }
   ],
   "source": [
    "new_pd.head()"
   ]
  },
  {
   "cell_type": "code",
   "execution_count": 87,
   "metadata": {
    "ExecuteTime": {
     "end_time": "2019-01-03T19:34:49.459108Z",
     "start_time": "2019-01-03T19:34:49.450028Z"
    }
   },
   "outputs": [
    {
     "data": {
      "text/html": [
       "<div>\n",
       "<style scoped>\n",
       "    .dataframe tbody tr th:only-of-type {\n",
       "        vertical-align: middle;\n",
       "    }\n",
       "\n",
       "    .dataframe tbody tr th {\n",
       "        vertical-align: top;\n",
       "    }\n",
       "\n",
       "    .dataframe thead th {\n",
       "        text-align: right;\n",
       "    }\n",
       "</style>\n",
       "<table border=\"1\" class=\"dataframe\">\n",
       "  <thead>\n",
       "    <tr style=\"text-align: right;\">\n",
       "      <th></th>\n",
       "      <th>country</th>\n",
       "      <th>year</th>\n",
       "      <th>suicide_rate</th>\n",
       "    </tr>\n",
       "  </thead>\n",
       "  <tbody>\n",
       "    <tr>\n",
       "      <th>0</th>\n",
       "      <td>Albania</td>\n",
       "      <td>1979</td>\n",
       "      <td>NaN</td>\n",
       "    </tr>\n",
       "    <tr>\n",
       "      <th>1</th>\n",
       "      <td>Albania</td>\n",
       "      <td>1980</td>\n",
       "      <td>NaN</td>\n",
       "    </tr>\n",
       "    <tr>\n",
       "      <th>2</th>\n",
       "      <td>Albania</td>\n",
       "      <td>1981</td>\n",
       "      <td>NaN</td>\n",
       "    </tr>\n",
       "    <tr>\n",
       "      <th>3</th>\n",
       "      <td>Albania</td>\n",
       "      <td>1982</td>\n",
       "      <td>NaN</td>\n",
       "    </tr>\n",
       "    <tr>\n",
       "      <th>4</th>\n",
       "      <td>Albania</td>\n",
       "      <td>1983</td>\n",
       "      <td>NaN</td>\n",
       "    </tr>\n",
       "  </tbody>\n",
       "</table>\n",
       "</div>"
      ],
      "text/plain": [
       "   country  year  suicide_rate\n",
       "0  Albania  1979           NaN\n",
       "1  Albania  1980           NaN\n",
       "2  Albania  1981           NaN\n",
       "3  Albania  1982           NaN\n",
       "4  Albania  1983           NaN"
      ]
     },
     "execution_count": 87,
     "metadata": {},
     "output_type": "execute_result"
    }
   ],
   "source": [
    "df_suicide.head()"
   ]
  },
  {
   "cell_type": "code",
   "execution_count": 88,
   "metadata": {
    "ExecuteTime": {
     "end_time": "2019-01-03T19:34:50.776404Z",
     "start_time": "2019-01-03T19:34:50.766136Z"
    }
   },
   "outputs": [
    {
     "name": "stdout",
     "output_type": "stream",
     "text": [
      "object int64 object object\n",
      "int64 int64\n"
     ]
    }
   ],
   "source": [
    "# convert type\n",
    "print(df_suicide['country'].dtype,df_suicide['year'].dtype, new_pd['country'].dtype, new_pd['year'].dtype)\n",
    "\n",
    "# Before merge, joined column should be converted to same data type\n",
    "new_pd['year'] = new_pd['year'].apply(int)\n",
    "\n",
    "# or do following\n",
    "# new_pd['year'] = new_pd['year'].astype(df_suicide['year'].dtype)\n",
    "\n",
    "print(new_pd['year'].dtype, df_suicide['year'].dtype)"
   ]
  },
  {
   "cell_type": "code",
   "execution_count": 91,
   "metadata": {
    "ExecuteTime": {
     "end_time": "2019-01-03T19:38:38.601902Z",
     "start_time": "2019-01-03T19:38:38.581667Z"
    }
   },
   "outputs": [
    {
     "data": {
      "text/html": [
       "<div>\n",
       "<style scoped>\n",
       "    .dataframe tbody tr th:only-of-type {\n",
       "        vertical-align: middle;\n",
       "    }\n",
       "\n",
       "    .dataframe tbody tr th {\n",
       "        vertical-align: top;\n",
       "    }\n",
       "\n",
       "    .dataframe thead th {\n",
       "        text-align: right;\n",
       "    }\n",
       "</style>\n",
       "<table border=\"1\" class=\"dataframe\">\n",
       "  <thead>\n",
       "    <tr style=\"text-align: right;\">\n",
       "      <th></th>\n",
       "      <th>country</th>\n",
       "      <th>year</th>\n",
       "      <th>suicide_rate</th>\n",
       "      <th>wage</th>\n",
       "      <th>cor</th>\n",
       "    </tr>\n",
       "  </thead>\n",
       "  <tbody>\n",
       "    <tr>\n",
       "      <th>0</th>\n",
       "      <td>Australia</td>\n",
       "      <td>1990</td>\n",
       "      <td>12.2</td>\n",
       "      <td>36682.942425</td>\n",
       "      <td>NaN</td>\n",
       "    </tr>\n",
       "    <tr>\n",
       "      <th>1</th>\n",
       "      <td>Australia</td>\n",
       "      <td>1991</td>\n",
       "      <td>12.5</td>\n",
       "      <td>36776.247678</td>\n",
       "      <td>NaN</td>\n",
       "    </tr>\n",
       "    <tr>\n",
       "      <th>2</th>\n",
       "      <td>Australia</td>\n",
       "      <td>1992</td>\n",
       "      <td>12.1</td>\n",
       "      <td>37692.129358</td>\n",
       "      <td>NaN</td>\n",
       "    </tr>\n",
       "    <tr>\n",
       "      <th>3</th>\n",
       "      <td>Australia</td>\n",
       "      <td>1993</td>\n",
       "      <td>10.8</td>\n",
       "      <td>38112.690279</td>\n",
       "      <td>NaN</td>\n",
       "    </tr>\n",
       "    <tr>\n",
       "      <th>4</th>\n",
       "      <td>Australia</td>\n",
       "      <td>1994</td>\n",
       "      <td>12.0</td>\n",
       "      <td>38488.116634</td>\n",
       "      <td>NaN</td>\n",
       "    </tr>\n",
       "  </tbody>\n",
       "</table>\n",
       "</div>"
      ],
      "text/plain": [
       "     country  year  suicide_rate          wage  cor\n",
       "0  Australia  1990          12.2  36682.942425  NaN\n",
       "1  Australia  1991          12.5  36776.247678  NaN\n",
       "2  Australia  1992          12.1  37692.129358  NaN\n",
       "3  Australia  1993          10.8  38112.690279  NaN\n",
       "4  Australia  1994          12.0  38488.116634  NaN"
      ]
     },
     "execution_count": 91,
     "metadata": {},
     "output_type": "execute_result"
    }
   ],
   "source": [
    "# merge\n",
    "df_merge = pd.merge(df_suicide, new_pd, left_on=['country', 'year'], right_on=['country', 'year'], how='inner')\n",
    "\n",
    "df_merge.head()"
   ]
  },
  {
   "cell_type": "code",
   "execution_count": 90,
   "metadata": {
    "ExecuteTime": {
     "end_time": "2019-01-03T19:35:57.906220Z",
     "start_time": "2019-01-03T19:35:57.891286Z"
    }
   },
   "outputs": [
    {
     "name": "stdout",
     "output_type": "stream",
     "text": [
      "[12.2 12.5 12.1 10.8 12.  11.3 12.4 13.5 13.3 12.4 11.7 11.8 11.  10.1\n",
      "  9.7  9.4  9.7 10.   9.6  9.8  9.7 10.3 10.2 11.2 11.6]\n",
      "[36682.94242455 36776.24767829 37692.12935818]\n"
     ]
    },
    {
     "data": {
      "text/plain": [
       "array([[36682.94242455],\n",
       "       [36776.24767829],\n",
       "       [37692.12935818]])"
      ]
     },
     "execution_count": 90,
     "metadata": {},
     "output_type": "execute_result"
    }
   ],
   "source": [
    "# remove NaN\n",
    "suicide_rates = df_merge[(df_merge.country == 'Australia') & df_merge['suicide_rate'].notnull()].suicide_rate.values\n",
    "wages = df_merge[(df_merge.country == 'Australia') & df_merge['suicide_rate'].notnull()].wage.values\n",
    "\n",
    "print(suicide_rates[:3])\n",
    "print(wages[:3])\n",
    "\n",
    "# reshape doesn't change original data\n",
    "wages.reshape(-1,1)[:3]"
   ]
  },
  {
   "cell_type": "markdown",
   "metadata": {},
   "source": [
    "### Correlation"
   ]
  },
  {
   "cell_type": "code",
   "execution_count": 92,
   "metadata": {
    "ExecuteTime": {
     "end_time": "2019-01-03T19:39:10.090259Z",
     "start_time": "2019-01-03T19:39:10.082784Z"
    }
   },
   "outputs": [
    {
     "name": "stdout",
     "output_type": "stream",
     "text": [
      "-0.6217429710541293 0.0009072346899258495\n",
      "['Australia' 'Austria' 'Belgium' 'Canada' 'Chile' 'Czech Republic'\n",
      " 'Denmark' 'Estonia' 'Finland' 'France' 'Greece' 'Hungary' 'Iceland'\n",
      " 'Ireland' 'Italy' 'Japan' 'Latvia' 'Lithuania' 'Luxembourg' 'Mexico'\n",
      " 'Netherlands' 'New Zealand' 'Norway' 'Poland' 'Portugal' 'Slovenia'\n",
      " 'Spain' 'Sweden' 'Switzerland' 'United Kingdom'\n",
      " 'United States of America']\n"
     ]
    }
   ],
   "source": [
    "# Correlation\n",
    "cor, p = pearsonr(wages, suicide_rates)\n",
    "print(cor, p)\n",
    "print(df_merge.country.unique())"
   ]
  },
  {
   "cell_type": "code",
   "execution_count": 95,
   "metadata": {
    "ExecuteTime": {
     "end_time": "2019-01-03T19:56:16.580144Z",
     "start_time": "2019-01-03T19:56:16.372804Z"
    }
   },
   "outputs": [],
   "source": [
    "pd_suicide_rate_wage_cor = pd.DataFrame(columns=['country', 'cor', 'p'])\n",
    "\n",
    "for country in df_merge.country.unique():\n",
    "    suicide_rates = df_merge[(df_merge.country == country) & df_merge['suicide_rate'].notnull()].suicide_rate.values\n",
    "    wages = df_merge[(df_merge.country == country) & df_merge['suicide_rate'].notnull()].wage.values\n",
    "    cor, p = pearsonr(wages, suicide_rates)\n",
    "#     print(\"Country: %s, cor:%f, p:%f\"%(country, cor, p))\n",
    "    pd_suicide_rate_wage_cor = pd_suicide_rate_wage_cor.append({'country': country, 'cor': cor, 'p': p}, ignore_index=True)\n",
    "    \n",
    "    "
   ]
  },
  {
   "cell_type": "code",
   "execution_count": 100,
   "metadata": {
    "ExecuteTime": {
     "end_time": "2019-01-03T20:07:09.544553Z",
     "start_time": "2019-01-03T20:07:09.521153Z"
    }
   },
   "outputs": [
    {
     "data": {
      "text/html": [
       "<div>\n",
       "<style scoped>\n",
       "    .dataframe tbody tr th:only-of-type {\n",
       "        vertical-align: middle;\n",
       "    }\n",
       "\n",
       "    .dataframe tbody tr th {\n",
       "        vertical-align: top;\n",
       "    }\n",
       "\n",
       "    .dataframe thead th {\n",
       "        text-align: right;\n",
       "    }\n",
       "</style>\n",
       "<table border=\"1\" class=\"dataframe\">\n",
       "  <thead>\n",
       "    <tr style=\"text-align: right;\">\n",
       "      <th></th>\n",
       "      <th>country</th>\n",
       "      <th>cor</th>\n",
       "      <th>p</th>\n",
       "    </tr>\n",
       "  </thead>\n",
       "  <tbody>\n",
       "    <tr>\n",
       "      <th>0</th>\n",
       "      <td>Australia</td>\n",
       "      <td>-0.621743</td>\n",
       "      <td>9.072347e-04</td>\n",
       "    </tr>\n",
       "    <tr>\n",
       "      <th>1</th>\n",
       "      <td>Austria</td>\n",
       "      <td>-0.979314</td>\n",
       "      <td>7.234952e-19</td>\n",
       "    </tr>\n",
       "    <tr>\n",
       "      <th>2</th>\n",
       "      <td>Belgium</td>\n",
       "      <td>-0.444588</td>\n",
       "      <td>2.286961e-02</td>\n",
       "    </tr>\n",
       "    <tr>\n",
       "      <th>3</th>\n",
       "      <td>Canada</td>\n",
       "      <td>-0.899056</td>\n",
       "      <td>2.380221e-09</td>\n",
       "    </tr>\n",
       "    <tr>\n",
       "      <th>4</th>\n",
       "      <td>Chile</td>\n",
       "      <td>0.542317</td>\n",
       "      <td>1.349794e-02</td>\n",
       "    </tr>\n",
       "  </tbody>\n",
       "</table>\n",
       "</div>"
      ],
      "text/plain": [
       "     country       cor             p\n",
       "0  Australia -0.621743  9.072347e-04\n",
       "1    Austria -0.979314  7.234952e-19\n",
       "2    Belgium -0.444588  2.286961e-02\n",
       "3     Canada -0.899056  2.380221e-09\n",
       "4      Chile  0.542317  1.349794e-02"
      ]
     },
     "execution_count": 100,
     "metadata": {},
     "output_type": "execute_result"
    }
   ],
   "source": [
    "pd_suicide_rate_wage_cor.head()"
   ]
  },
  {
   "cell_type": "code",
   "execution_count": 101,
   "metadata": {
    "ExecuteTime": {
     "end_time": "2019-01-03T20:07:12.024757Z",
     "start_time": "2019-01-03T20:07:12.010399Z"
    }
   },
   "outputs": [],
   "source": [
    "pd_suicide_rate_wage_cor.to_csv(\"suicide_rate_wages_cor.csv\")"
   ]
  },
  {
   "cell_type": "markdown",
   "metadata": {
    "ExecuteTime": {
     "end_time": "2019-01-03T19:08:16.746878Z",
     "start_time": "2019-01-03T19:08:16.743931Z"
    }
   },
   "source": [
    "### Regression"
   ]
  },
  {
   "cell_type": "code",
   "execution_count": 59,
   "metadata": {
    "ExecuteTime": {
     "end_time": "2019-01-03T18:56:57.837518Z",
     "start_time": "2019-01-03T18:56:57.831543Z"
    }
   },
   "outputs": [
    {
     "name": "stdout",
     "output_type": "stream",
     "text": [
      "[-0.00017065] 18.559641087977056\n"
     ]
    }
   ],
   "source": [
    "# Regression\n",
    "reg = linear_model.LinearRegression()\n",
    "\n",
    "# make wages to 1 dimension (wages.reshape(-1)), and then shape to 1 column shape\n",
    "reg.fit(wages.reshape(-1,1), suicide_rates)\n",
    "\n",
    "# slope and intercept\n",
    "print(reg.coef_, reg.intercept_)"
   ]
  },
  {
   "cell_type": "code",
   "execution_count": 60,
   "metadata": {
    "ExecuteTime": {
     "end_time": "2019-01-03T18:57:03.628402Z",
     "start_time": "2019-01-03T18:57:03.621896Z"
    }
   },
   "outputs": [
    {
     "data": {
      "text/plain": [
       "array([18.22004057])"
      ]
     },
     "execution_count": 60,
     "metadata": {},
     "output_type": "execute_result"
    }
   ],
   "source": [
    "reg.predict([[1990]])"
   ]
  },
  {
   "cell_type": "code",
   "execution_count": 62,
   "metadata": {
    "ExecuteTime": {
     "end_time": "2019-01-03T18:58:09.036774Z",
     "start_time": "2019-01-03T18:58:08.922632Z"
    }
   },
   "outputs": [
    {
     "data": {
      "image/png": "[encoded data removed]",
      "text/plain": [
       "<Figure size 432x288 with 1 Axes>"
      ]
     },
     "metadata": {
      "needs_background": "light"
     },
     "output_type": "display_data"
    }
   ],
   "source": [
    "line = reg.coef_*wages.reshape(-1, 1)+reg.intercept_\n",
    "\n",
    "plt.scatter(wages, suicide_rates)\n",
    "plt.plot(wages.reshape(-1,1), suicide_rates,'o', wages.reshape(-1,1), line)\n",
    "plt.show()\n"
   ]
  },
  {
   "cell_type": "code",
   "execution_count": 63,
   "metadata": {
    "ExecuteTime": {
     "end_time": "2019-01-03T18:58:13.804331Z",
     "start_time": "2019-01-03T18:58:13.795161Z"
    }
   },
   "outputs": [
    {
     "data": {
      "text/plain": [
       "0.38656432205521607"
      ]
     },
     "execution_count": 63,
     "metadata": {},
     "output_type": "execute_result"
    }
   ],
   "source": [
    "reg.score(wages.reshape(-1,1), suicide_rates)"
   ]
  },
  {
   "cell_type": "markdown",
   "metadata": {},
   "source": [
    "## Population density"
   ]
  },
  {
   "cell_type": "markdown",
   "metadata": {},
   "source": [
    "### merge file"
   ]
  },
  {
   "cell_type": "code",
   "execution_count": 115,
   "metadata": {
    "ExecuteTime": {
     "end_time": "2019-01-03T21:05:02.604136Z",
     "start_time": "2019-01-03T21:04:59.198133Z"
    }
   },
   "outputs": [],
   "source": [
    "pop_file = '../population_density.csv'\n",
    "suicide_file = '../Adjusted Suicide Rate.csv'\n",
    "df_pop = pd.read_csv(pop_file)\n",
    "df_suicide = pd.read_csv(suicide_file)\n",
    "\n",
    "countries = [\n",
    "    'AUS', 'AUT', 'BEL', 'BRA',\n",
    "    'CAN', 'CHE', 'CHL', 'CHN', 'COL',\n",
    "    'CRI', 'CZE', 'DEU', 'DNK', 'ESP',\n",
    "    'EST', 'FIN', 'FRA', 'GBR', 'GRC',\n",
    "    'HUN', 'IDN', 'IND', 'IRL', 'ISL',\n",
    "    'ISR', 'ITA', 'JPN', 'KOR', 'LTU',\n",
    "    'LUX', 'LVA', 'MEX', 'NLD', 'NOR',\n",
    "    'NZL', 'POL', 'PRT', 'RUS', 'SVK',\n",
    "    'SVN', 'SWE', 'TUR', 'USA', 'ZAF'\n",
    "]\n",
    "\n",
    "# filter out unnecessary country district\n",
    "df_pop_filtered = df_pop[df_pop['METRO_ID'].isin(countries)]\n",
    "\n",
    "# create new_pd to store mappedCountry from df_wage\n",
    "for index,row in df_pop_filtered.iterrows():\n",
    "    new_pd = new_pd.append({'country': countryMapping[row['METRO_ID']], 'year': row['TIME'], 'type': row['VAR'], 'value': row['Value']}, ignore_index=True)\n"
   ]
  },
  {
   "cell_type": "code",
   "execution_count": 119,
   "metadata": {
    "ExecuteTime": {
     "end_time": "2019-01-03T21:07:00.257338Z",
     "start_time": "2019-01-03T21:07:00.239960Z"
    }
   },
   "outputs": [
    {
     "data": {
      "text/html": [
       "<div>\n",
       "<style scoped>\n",
       "    .dataframe tbody tr th:only-of-type {\n",
       "        vertical-align: middle;\n",
       "    }\n",
       "\n",
       "    .dataframe tbody tr th {\n",
       "        vertical-align: top;\n",
       "    }\n",
       "\n",
       "    .dataframe thead th {\n",
       "        text-align: right;\n",
       "    }\n",
       "</style>\n",
       "<table border=\"1\" class=\"dataframe\">\n",
       "  <thead>\n",
       "    <tr style=\"text-align: right;\">\n",
       "      <th></th>\n",
       "      <th>country</th>\n",
       "      <th>year</th>\n",
       "      <th>type</th>\n",
       "      <th>value</th>\n",
       "      <th>cor</th>\n",
       "    </tr>\n",
       "  </thead>\n",
       "  <tbody>\n",
       "    <tr>\n",
       "      <th>0</th>\n",
       "      <td>Austria</td>\n",
       "      <td>2000</td>\n",
       "      <td>POP</td>\n",
       "      <td>8002186.0</td>\n",
       "      <td>NaN</td>\n",
       "    </tr>\n",
       "    <tr>\n",
       "      <th>1</th>\n",
       "      <td>Austria</td>\n",
       "      <td>2001</td>\n",
       "      <td>POP</td>\n",
       "      <td>8020946.0</td>\n",
       "      <td>NaN</td>\n",
       "    </tr>\n",
       "    <tr>\n",
       "      <th>2</th>\n",
       "      <td>Austria</td>\n",
       "      <td>2002</td>\n",
       "      <td>POP</td>\n",
       "      <td>8063640.0</td>\n",
       "      <td>NaN</td>\n",
       "    </tr>\n",
       "    <tr>\n",
       "      <th>3</th>\n",
       "      <td>Austria</td>\n",
       "      <td>2003</td>\n",
       "      <td>POP</td>\n",
       "      <td>8100273.0</td>\n",
       "      <td>NaN</td>\n",
       "    </tr>\n",
       "    <tr>\n",
       "      <th>4</th>\n",
       "      <td>Austria</td>\n",
       "      <td>2004</td>\n",
       "      <td>POP</td>\n",
       "      <td>8142573.0</td>\n",
       "      <td>NaN</td>\n",
       "    </tr>\n",
       "  </tbody>\n",
       "</table>\n",
       "</div>"
      ],
      "text/plain": [
       "   country  year type      value  cor\n",
       "0  Austria  2000  POP  8002186.0  NaN\n",
       "1  Austria  2001  POP  8020946.0  NaN\n",
       "2  Austria  2002  POP  8063640.0  NaN\n",
       "3  Austria  2003  POP  8100273.0  NaN\n",
       "4  Austria  2004  POP  8142573.0  NaN"
      ]
     },
     "execution_count": 119,
     "metadata": {},
     "output_type": "execute_result"
    }
   ],
   "source": [
    "new_pd.head()"
   ]
  },
  {
   "cell_type": "code",
   "execution_count": 120,
   "metadata": {
    "ExecuteTime": {
     "end_time": "2019-01-03T21:07:33.017857Z",
     "start_time": "2019-01-03T21:07:33.002435Z"
    }
   },
   "outputs": [
    {
     "data": {
      "text/html": [
       "<div>\n",
       "<style scoped>\n",
       "    .dataframe tbody tr th:only-of-type {\n",
       "        vertical-align: middle;\n",
       "    }\n",
       "\n",
       "    .dataframe tbody tr th {\n",
       "        vertical-align: top;\n",
       "    }\n",
       "\n",
       "    .dataframe thead th {\n",
       "        text-align: right;\n",
       "    }\n",
       "</style>\n",
       "<table border=\"1\" class=\"dataframe\">\n",
       "  <thead>\n",
       "    <tr style=\"text-align: right;\">\n",
       "      <th></th>\n",
       "      <th>country</th>\n",
       "      <th>year</th>\n",
       "      <th>suicide_rate</th>\n",
       "    </tr>\n",
       "  </thead>\n",
       "  <tbody>\n",
       "    <tr>\n",
       "      <th>0</th>\n",
       "      <td>Albania</td>\n",
       "      <td>1979</td>\n",
       "      <td>NaN</td>\n",
       "    </tr>\n",
       "    <tr>\n",
       "      <th>1</th>\n",
       "      <td>Albania</td>\n",
       "      <td>1980</td>\n",
       "      <td>NaN</td>\n",
       "    </tr>\n",
       "    <tr>\n",
       "      <th>2</th>\n",
       "      <td>Albania</td>\n",
       "      <td>1981</td>\n",
       "      <td>NaN</td>\n",
       "    </tr>\n",
       "    <tr>\n",
       "      <th>3</th>\n",
       "      <td>Albania</td>\n",
       "      <td>1982</td>\n",
       "      <td>NaN</td>\n",
       "    </tr>\n",
       "    <tr>\n",
       "      <th>4</th>\n",
       "      <td>Albania</td>\n",
       "      <td>1983</td>\n",
       "      <td>NaN</td>\n",
       "    </tr>\n",
       "  </tbody>\n",
       "</table>\n",
       "</div>"
      ],
      "text/plain": [
       "   country  year  suicide_rate\n",
       "0  Albania  1979           NaN\n",
       "1  Albania  1980           NaN\n",
       "2  Albania  1981           NaN\n",
       "3  Albania  1982           NaN\n",
       "4  Albania  1983           NaN"
      ]
     },
     "execution_count": 120,
     "metadata": {},
     "output_type": "execute_result"
    }
   ],
   "source": [
    "df_suicide.head()"
   ]
  },
  {
   "cell_type": "code",
   "execution_count": 124,
   "metadata": {
    "ExecuteTime": {
     "end_time": "2019-01-03T21:09:45.947674Z",
     "start_time": "2019-01-03T21:09:45.936002Z"
    }
   },
   "outputs": [
    {
     "name": "stdout",
     "output_type": "stream",
     "text": [
      "object int64 object int64\n",
      "int64 int64\n"
     ]
    }
   ],
   "source": [
    "# convert type\n",
    "print(df_suicide['country'].dtype,df_suicide['year'].dtype, new_pd['country'].dtype, new_pd['year'].dtype)\n",
    "\n",
    "# Before merge, joined column should be converted to same data type\n",
    "# new_pd['year'] = new_pd['year'].apply(int)\n",
    "\n",
    "# or do following\n",
    "new_pd['year'] = new_pd['year'].astype(df_suicide['year'].dtype)\n",
    "\n",
    "print(new_pd['year'].dtype, df_suicide['year'].dtype)"
   ]
  },
  {
   "cell_type": "code",
   "execution_count": 125,
   "metadata": {
    "ExecuteTime": {
     "end_time": "2019-01-03T21:10:52.186196Z",
     "start_time": "2019-01-03T21:10:52.159651Z"
    }
   },
   "outputs": [
    {
     "data": {
      "text/html": [
       "<div>\n",
       "<style scoped>\n",
       "    .dataframe tbody tr th:only-of-type {\n",
       "        vertical-align: middle;\n",
       "    }\n",
       "\n",
       "    .dataframe tbody tr th {\n",
       "        vertical-align: top;\n",
       "    }\n",
       "\n",
       "    .dataframe thead th {\n",
       "        text-align: right;\n",
       "    }\n",
       "</style>\n",
       "<table border=\"1\" class=\"dataframe\">\n",
       "  <thead>\n",
       "    <tr style=\"text-align: right;\">\n",
       "      <th></th>\n",
       "      <th>country</th>\n",
       "      <th>year</th>\n",
       "      <th>suicide_rate</th>\n",
       "      <th>type</th>\n",
       "      <th>value</th>\n",
       "      <th>cor</th>\n",
       "    </tr>\n",
       "  </thead>\n",
       "  <tbody>\n",
       "    <tr>\n",
       "      <th>0</th>\n",
       "      <td>Australia</td>\n",
       "      <td>2000</td>\n",
       "      <td>11.7</td>\n",
       "      <td>POP</td>\n",
       "      <td>19028802.00</td>\n",
       "      <td>NaN</td>\n",
       "    </tr>\n",
       "    <tr>\n",
       "      <th>1</th>\n",
       "      <td>Australia</td>\n",
       "      <td>2000</td>\n",
       "      <td>11.7</td>\n",
       "      <td>POP_DENS</td>\n",
       "      <td>2.47</td>\n",
       "      <td>NaN</td>\n",
       "    </tr>\n",
       "    <tr>\n",
       "      <th>2</th>\n",
       "      <td>Australia</td>\n",
       "      <td>2001</td>\n",
       "      <td>11.8</td>\n",
       "      <td>POP</td>\n",
       "      <td>19274701.00</td>\n",
       "      <td>NaN</td>\n",
       "    </tr>\n",
       "    <tr>\n",
       "      <th>3</th>\n",
       "      <td>Australia</td>\n",
       "      <td>2001</td>\n",
       "      <td>11.8</td>\n",
       "      <td>POP_DENS</td>\n",
       "      <td>2.50</td>\n",
       "      <td>NaN</td>\n",
       "    </tr>\n",
       "    <tr>\n",
       "      <th>4</th>\n",
       "      <td>Australia</td>\n",
       "      <td>2002</td>\n",
       "      <td>11.0</td>\n",
       "      <td>POP</td>\n",
       "      <td>19495210.00</td>\n",
       "      <td>NaN</td>\n",
       "    </tr>\n",
       "  </tbody>\n",
       "</table>\n",
       "</div>"
      ],
      "text/plain": [
       "     country  year  suicide_rate      type        value  cor\n",
       "0  Australia  2000          11.7       POP  19028802.00  NaN\n",
       "1  Australia  2000          11.7  POP_DENS         2.47  NaN\n",
       "2  Australia  2001          11.8       POP  19274701.00  NaN\n",
       "3  Australia  2001          11.8  POP_DENS         2.50  NaN\n",
       "4  Australia  2002          11.0       POP  19495210.00  NaN"
      ]
     },
     "execution_count": 125,
     "metadata": {},
     "output_type": "execute_result"
    }
   ],
   "source": [
    "# merge\n",
    "df_merge = pd.merge(df_suicide, new_pd, left_on=['country', 'year'], right_on=['country', 'year'], how='inner')\n",
    "\n",
    "df_merge.head()"
   ]
  },
  {
   "cell_type": "code",
   "execution_count": 139,
   "metadata": {
    "ExecuteTime": {
     "end_time": "2019-01-03T21:26:22.131158Z",
     "start_time": "2019-01-03T21:26:22.108179Z"
    }
   },
   "outputs": [
    {
     "name": "stdout",
     "output_type": "stream",
     "text": [
      "(14,)\n",
      "(14,)\n",
      "(14,)\n"
     ]
    }
   ],
   "source": [
    "# devide pop and pop_dens and remove NaN\n",
    "suicide_rates_pop = df_merge[(df_merge.type == 'POP') & (df_merge.country == 'Australia') & df_merge['suicide_rate'].notnull()].suicide_rate.values\n",
    "pop = df_merge[(df_merge.type == 'POP') & (df_merge.country == 'Australia') & df_merge['suicide_rate'].notnull()].value.values\n",
    "\n",
    "suicide_rates_pop_dens = df_merge[(df_merge.type == 'POP_DENS') & (df_merge.country == 'Australia') & df_merge['suicide_rate'].notnull()].suicide_rate.values\n",
    "pop_dens = df_merge[(df_merge.type == 'POP_DENS') & (df_merge.country == 'Australia') & df_merge['suicide_rate'].notnull()].value.values\n",
    "\n",
    "print(suicide_rates_pop_dens.shape)\n",
    "print(pop.shape)\n",
    "print(pop_dens.shape)"
   ]
  },
  {
   "cell_type": "markdown",
   "metadata": {},
   "source": [
    "### Correlation"
   ]
  },
  {
   "cell_type": "code",
   "execution_count": 140,
   "metadata": {
    "ExecuteTime": {
     "end_time": "2019-01-03T21:26:33.917715Z",
     "start_time": "2019-01-03T21:26:33.908985Z"
    }
   },
   "outputs": [
    {
     "name": "stdout",
     "output_type": "stream",
     "text": [
      "-0.305895510850681 0.2875052196752849\n",
      "['Australia' 'Austria' 'Belgium' 'Canada' 'Chile' 'Czech Republic'\n",
      " 'Denmark' 'Estonia' 'Finland' 'France' 'Greece' 'Hungary' 'Ireland'\n",
      " 'Italy' 'Japan' 'Mexico' 'Netherlands' 'Norway' 'Poland' 'Portugal'\n",
      " 'Slovenia' 'Spain' 'Sweden' 'Switzerland' 'United Kingdom'\n",
      " 'United States of America']\n"
     ]
    }
   ],
   "source": [
    "# Correlation\n",
    "cor, p = pearsonr(pop, suicide_rates_pop)\n",
    "print(cor, p)\n",
    "print(df_merge.country.unique())"
   ]
  },
  {
   "cell_type": "code",
   "execution_count": 145,
   "metadata": {
    "ExecuteTime": {
     "end_time": "2019-01-03T21:42:17.053528Z",
     "start_time": "2019-01-03T21:42:16.889496Z"
    }
   },
   "outputs": [],
   "source": [
    "pd_suicide_rate_pop_cor = pd.DataFrame(columns=['country', 'cor', 'p'])\n",
    "\n",
    "for country in df_merge.country.unique():\n",
    "    suicide_rates_pop = df_merge[(df_merge.type == 'POP') & (df_merge.country == country) & df_merge['suicide_rate'].notnull()].suicide_rate.values\n",
    "    pop = df_merge[(df_merge.type == 'POP') & (df_merge.country == country) & df_merge['suicide_rate'].notnull()].value.values\n",
    "    cor, p = pearsonr(pop, suicide_rates_pop)\n",
    "#     print(\"Country: %s, cor:%f, p:%f\"%(country, cor, p))\n",
    "    pd_suicide_rate_pop_cor = pd_suicide_rate_pop_cor.append({'country': country, 'cor': cor, 'p': p}, ignore_index=True)\n",
    "    \n",
    "    "
   ]
  },
  {
   "cell_type": "code",
   "execution_count": 146,
   "metadata": {
    "ExecuteTime": {
     "end_time": "2019-01-03T21:42:45.834938Z",
     "start_time": "2019-01-03T21:42:45.674105Z"
    }
   },
   "outputs": [],
   "source": [
    "pd_suicide_rate_pop_dens_cor = pd.DataFrame(columns=['country', 'cor', 'p'])\n",
    "\n",
    "for country in df_merge.country.unique():\n",
    "    suicide_rates_pop_dens = df_merge[(df_merge.type == 'POP_DENS') & (df_merge.country == country) & df_merge['suicide_rate'].notnull()].suicide_rate.values\n",
    "    pop_dens = df_merge[(df_merge.type == 'POP_DENS') & (df_merge.country == country) & df_merge['suicide_rate'].notnull()].value.values\n",
    "    cor, p = pearsonr(pop_dens, suicide_rates_pop_dens)\n",
    "#     print(\"Country: %s, cor:%f, p:%f\"%(country, cor, p))\n",
    "    pd_suicide_rate_pop_dens_cor = pd_suicide_rate_pop_dens_cor.append({'country': country, 'cor': cor, 'p': p}, ignore_index=True)\n",
    "    \n",
    "    "
   ]
  },
  {
   "cell_type": "code",
   "execution_count": 147,
   "metadata": {
    "ExecuteTime": {
     "end_time": "2019-01-03T21:42:58.907027Z",
     "start_time": "2019-01-03T21:42:58.896418Z"
    }
   },
   "outputs": [
    {
     "data": {
      "text/html": [
       "<div>\n",
       "<style scoped>\n",
       "    .dataframe tbody tr th:only-of-type {\n",
       "        vertical-align: middle;\n",
       "    }\n",
       "\n",
       "    .dataframe tbody tr th {\n",
       "        vertical-align: top;\n",
       "    }\n",
       "\n",
       "    .dataframe thead th {\n",
       "        text-align: right;\n",
       "    }\n",
       "</style>\n",
       "<table border=\"1\" class=\"dataframe\">\n",
       "  <thead>\n",
       "    <tr style=\"text-align: right;\">\n",
       "      <th></th>\n",
       "      <th>country</th>\n",
       "      <th>cor</th>\n",
       "      <th>p</th>\n",
       "    </tr>\n",
       "  </thead>\n",
       "  <tbody>\n",
       "    <tr>\n",
       "      <th>0</th>\n",
       "      <td>Australia</td>\n",
       "      <td>-0.306135</td>\n",
       "      <td>2.871093e-01</td>\n",
       "    </tr>\n",
       "    <tr>\n",
       "      <th>1</th>\n",
       "      <td>Austria</td>\n",
       "      <td>-0.949784</td>\n",
       "      <td>6.255623e-08</td>\n",
       "    </tr>\n",
       "    <tr>\n",
       "      <th>2</th>\n",
       "      <td>Belgium</td>\n",
       "      <td>-0.854798</td>\n",
       "      <td>4.913009e-05</td>\n",
       "    </tr>\n",
       "    <tr>\n",
       "      <th>3</th>\n",
       "      <td>Canada</td>\n",
       "      <td>-0.739670</td>\n",
       "      <td>2.495791e-03</td>\n",
       "    </tr>\n",
       "    <tr>\n",
       "      <th>4</th>\n",
       "      <td>Chile</td>\n",
       "      <td>-0.021315</td>\n",
       "      <td>9.398975e-01</td>\n",
       "    </tr>\n",
       "  </tbody>\n",
       "</table>\n",
       "</div>"
      ],
      "text/plain": [
       "     country       cor             p\n",
       "0  Australia -0.306135  2.871093e-01\n",
       "1    Austria -0.949784  6.255623e-08\n",
       "2    Belgium -0.854798  4.913009e-05\n",
       "3     Canada -0.739670  2.495791e-03\n",
       "4      Chile -0.021315  9.398975e-01"
      ]
     },
     "execution_count": 147,
     "metadata": {},
     "output_type": "execute_result"
    }
   ],
   "source": [
    "pd_suicide_rate_pop_dens_cor.head()"
   ]
  },
  {
   "cell_type": "code",
   "execution_count": 144,
   "metadata": {
    "ExecuteTime": {
     "end_time": "2019-01-03T21:36:54.211046Z",
     "start_time": "2019-01-03T21:36:54.199775Z"
    }
   },
   "outputs": [],
   "source": [
    "pd_suicide_rate_pop_dens_cor.to_csv(\"suicide_rate_pop_dens_cor.csv\")"
   ]
  },
  {
   "cell_type": "code",
   "execution_count": null,
   "metadata": {},
   "outputs": [],
   "source": []
  }
 ],
 "metadata": {
  "kernelspec": {
   "display_name": "Python 3",
   "language": "python",
   "name": "python3"
  },
  "language_info": {
   "codemirror_mode": {
    "name": "ipython",
    "version": 3
   },
   "file_extension": ".py",
   "mimetype": "text/x-python",
   "name": "python",
   "nbconvert_exporter": "python",
   "pygments_lexer": "ipython3",
   "version": "3.7.0"
  },
  "toc": {
   "base_numbering": 1,
   "nav_menu": {},
   "number_sections": true,
   "sideBar": true,
   "skip_h1_title": false,
   "title_cell": "Table of Contents",
   "title_sidebar": "Contents",
   "toc_cell": false,
   "toc_position": {},
   "toc_section_display": true,
   "toc_window_display": false
  },
  "varInspector": {
   "cols": {
    "lenName": 16,
    "lenType": 16,
    "lenVar": 40
   },
   "kernels_config": {
    "python": {
     "delete_cmd_postfix": "",
     "delete_cmd_prefix": "del ",
     "library": "var_list.py",
     "varRefreshCmd": "print(var_dic_list())"
    },
    "r": {
     "delete_cmd_postfix": ") ",
     "delete_cmd_prefix": "rm(",
     "library": "var_list.r",
     "varRefreshCmd": "cat(var_dic_list()) "
    }
   },
   "position": {
    "height": "391px",
    "left": "1129px",
    "right": "20px",
    "top": "120px",
    "width": "360px"
   },
   "types_to_exclude": [
    "module",
    "function",
    "builtin_function_or_method",
    "instance",
    "_Feature"
   ],
   "window_display": false
  }
 },
 "nbformat": 4,
 "nbformat_minor": 2
}
