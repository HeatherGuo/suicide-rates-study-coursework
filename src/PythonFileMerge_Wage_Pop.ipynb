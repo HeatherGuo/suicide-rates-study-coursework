{
 "cells": [
  {
   "cell_type": "code",
   "execution_count": 45,
   "metadata": {
    "ExecuteTime": {
     "end_time": "2019-01-06T15:54:56.052438Z",
     "start_time": "2019-01-06T15:54:56.048392Z"
    }
   },
   "outputs": [],
   "source": [
    "import pandas as pd\n",
    "from sklearn import linear_model\n",
    "import matplotlib.pyplot as plt\n",
    "from scipy.stats.stats import pearsonr"
   ]
  },
  {
   "cell_type": "markdown",
   "metadata": {},
   "source": [
    "## Wages"
   ]
  },
  {
   "cell_type": "markdown",
   "metadata": {},
   "source": [
    "### Merge File"
   ]
  },
  {
   "cell_type": "code",
   "execution_count": 86,
   "metadata": {
    "ExecuteTime": {
     "end_time": "2019-01-06T17:00:56.460393Z",
     "start_time": "2019-01-06T17:00:56.444825Z"
    }
   },
   "outputs": [],
   "source": [
    "countryMapping = {\n",
    "    'AUS': 'Australia', 'AUT': 'Austria', 'BEL': 'Belgium', 'BRA': 'Brazil',\n",
    "    'CAN': 'Canada', 'CHE': 'Switzerland', 'CHL': 'Chile', 'CHN': 'China', 'COL': 'Colombia',\n",
    "    'CRI': 'Costa Rica', 'CZE': 'Czech Republic', 'DEU': 'Germay', 'DNK': 'Denmark', 'ESP': 'Spain',\n",
    "    'EST': 'Estonia', 'FIN': 'Finland', 'FRA': 'France', 'GBR': 'United Kingdom', 'GRC': 'Greece',\n",
    "    'HUN': 'Hungary', 'IDN': 'Indonesia', 'IND': 'India', 'IRL': 'Ireland', 'ISL': 'Iceland',\n",
    "    'ISR': 'Isreal', 'ITA': 'Italy', 'JPN': 'Japan', 'KOR': 'Korea', 'LTU': 'Lithuania',\n",
    "    'LUX': 'Luxembourg', 'LVA': 'Latvia', 'MEX': 'Mexico', 'NLD': 'Netherlands', 'NOR': 'Norway',\n",
    "    'NZL': 'New Zealand', 'POL': 'Poland', 'PRT': 'Portugal', 'RUS': 'Russia', 'SVK': 'Slovak Republic',\n",
    "    'SVN': 'Slovenia', 'SWE': 'Sweden', 'TUR': 'Turkey', 'USA': 'United States of America', 'ZAF': 'South Africa'\n",
    "}"
   ]
  },
  {
   "cell_type": "code",
   "execution_count": 89,
   "metadata": {
    "ExecuteTime": {
     "end_time": "2019-01-06T17:01:09.608608Z",
     "start_time": "2019-01-06T17:01:05.339163Z"
    }
   },
   "outputs": [],
   "source": [
    "wage_file = '../avg_wages.csv'\n",
    "suicide_file = '../Adjusted Suicide Rate(fillna).csv'\n",
    "df_wage = pd.read_csv(wage_file)\n",
    "df_suicide = pd.read_csv(suicide_file)\n",
    "\n",
    "new_pd = pd.DataFrame(columns=['country', 'year', 'wage', 'cor'])\n",
    "\n",
    "# create new_pd to store mappedCountry from df_wage\n",
    "for index,row in df_wage.iterrows():\n",
    "    new_pd = new_pd.append({'country': countryMapping[row['LOCATION']], 'year': row['TIME'], 'wage': row['Value']}, ignore_index=True)\n"
   ]
  },
  {
   "cell_type": "code",
   "execution_count": 90,
   "metadata": {
    "ExecuteTime": {
     "end_time": "2019-01-06T17:01:11.882709Z",
     "start_time": "2019-01-06T17:01:11.860224Z"
    }
   },
   "outputs": [
    {
     "name": "stdout",
     "output_type": "stream",
     "text": [
      "(35,)\n"
     ]
    },
    {
     "data": {
      "text/html": [
       "<div>\n",
       "<style scoped>\n",
       "    .dataframe tbody tr th:only-of-type {\n",
       "        vertical-align: middle;\n",
       "    }\n",
       "\n",
       "    .dataframe tbody tr th {\n",
       "        vertical-align: top;\n",
       "    }\n",
       "\n",
       "    .dataframe thead th {\n",
       "        text-align: right;\n",
       "    }\n",
       "</style>\n",
       "<table border=\"1\" class=\"dataframe\">\n",
       "  <thead>\n",
       "    <tr style=\"text-align: right;\">\n",
       "      <th></th>\n",
       "      <th>country</th>\n",
       "      <th>year</th>\n",
       "      <th>wage</th>\n",
       "      <th>cor</th>\n",
       "    </tr>\n",
       "  </thead>\n",
       "  <tbody>\n",
       "    <tr>\n",
       "      <th>0</th>\n",
       "      <td>Australia</td>\n",
       "      <td>1990</td>\n",
       "      <td>36682.942425</td>\n",
       "      <td>NaN</td>\n",
       "    </tr>\n",
       "    <tr>\n",
       "      <th>1</th>\n",
       "      <td>Australia</td>\n",
       "      <td>1991</td>\n",
       "      <td>36776.247678</td>\n",
       "      <td>NaN</td>\n",
       "    </tr>\n",
       "    <tr>\n",
       "      <th>2</th>\n",
       "      <td>Australia</td>\n",
       "      <td>1992</td>\n",
       "      <td>37692.129358</td>\n",
       "      <td>NaN</td>\n",
       "    </tr>\n",
       "    <tr>\n",
       "      <th>3</th>\n",
       "      <td>Australia</td>\n",
       "      <td>1993</td>\n",
       "      <td>38112.690279</td>\n",
       "      <td>NaN</td>\n",
       "    </tr>\n",
       "    <tr>\n",
       "      <th>4</th>\n",
       "      <td>Australia</td>\n",
       "      <td>1994</td>\n",
       "      <td>38488.116634</td>\n",
       "      <td>NaN</td>\n",
       "    </tr>\n",
       "  </tbody>\n",
       "</table>\n",
       "</div>"
      ],
      "text/plain": [
       "     country  year          wage  cor\n",
       "0  Australia  1990  36682.942425  NaN\n",
       "1  Australia  1991  36776.247678  NaN\n",
       "2  Australia  1992  37692.129358  NaN\n",
       "3  Australia  1993  38112.690279  NaN\n",
       "4  Australia  1994  38488.116634  NaN"
      ]
     },
     "execution_count": 90,
     "metadata": {},
     "output_type": "execute_result"
    }
   ],
   "source": [
    "print(df_wage.LOCATION.unique().shape)\n",
    "new_pd.head()"
   ]
  },
  {
   "cell_type": "code",
   "execution_count": 91,
   "metadata": {
    "ExecuteTime": {
     "end_time": "2019-01-06T17:01:27.223042Z",
     "start_time": "2019-01-06T17:01:27.214954Z"
    }
   },
   "outputs": [
    {
     "data": {
      "text/html": [
       "<div>\n",
       "<style scoped>\n",
       "    .dataframe tbody tr th:only-of-type {\n",
       "        vertical-align: middle;\n",
       "    }\n",
       "\n",
       "    .dataframe tbody tr th {\n",
       "        vertical-align: top;\n",
       "    }\n",
       "\n",
       "    .dataframe thead th {\n",
       "        text-align: right;\n",
       "    }\n",
       "</style>\n",
       "<table border=\"1\" class=\"dataframe\">\n",
       "  <thead>\n",
       "    <tr style=\"text-align: right;\">\n",
       "      <th></th>\n",
       "      <th>country</th>\n",
       "      <th>year</th>\n",
       "      <th>suicide_rate</th>\n",
       "    </tr>\n",
       "  </thead>\n",
       "  <tbody>\n",
       "    <tr>\n",
       "      <th>0</th>\n",
       "      <td>Albania</td>\n",
       "      <td>1979</td>\n",
       "      <td>2.721614</td>\n",
       "    </tr>\n",
       "    <tr>\n",
       "      <th>1</th>\n",
       "      <td>Albania</td>\n",
       "      <td>1980</td>\n",
       "      <td>2.734478</td>\n",
       "    </tr>\n",
       "    <tr>\n",
       "      <th>2</th>\n",
       "      <td>Albania</td>\n",
       "      <td>1981</td>\n",
       "      <td>2.747342</td>\n",
       "    </tr>\n",
       "    <tr>\n",
       "      <th>3</th>\n",
       "      <td>Albania</td>\n",
       "      <td>1982</td>\n",
       "      <td>2.760206</td>\n",
       "    </tr>\n",
       "    <tr>\n",
       "      <th>4</th>\n",
       "      <td>Albania</td>\n",
       "      <td>1983</td>\n",
       "      <td>2.773070</td>\n",
       "    </tr>\n",
       "  </tbody>\n",
       "</table>\n",
       "</div>"
      ],
      "text/plain": [
       "   country  year  suicide_rate\n",
       "0  Albania  1979      2.721614\n",
       "1  Albania  1980      2.734478\n",
       "2  Albania  1981      2.747342\n",
       "3  Albania  1982      2.760206\n",
       "4  Albania  1983      2.773070"
      ]
     },
     "execution_count": 91,
     "metadata": {},
     "output_type": "execute_result"
    }
   ],
   "source": [
    "df_suicide.head()"
   ]
  },
  {
   "cell_type": "code",
   "execution_count": 92,
   "metadata": {
    "ExecuteTime": {
     "end_time": "2019-01-06T17:01:28.230139Z",
     "start_time": "2019-01-06T17:01:28.223600Z"
    }
   },
   "outputs": [
    {
     "name": "stdout",
     "output_type": "stream",
     "text": [
      "object int64 object object\n",
      "int64 int64\n"
     ]
    }
   ],
   "source": [
    "# convert type\n",
    "print(df_suicide['country'].dtype,df_suicide['year'].dtype, new_pd['country'].dtype, new_pd['year'].dtype)\n",
    "\n",
    "# Before merge, joined column should be converted to same data type\n",
    "new_pd['year'] = new_pd['year'].apply(int)\n",
    "\n",
    "# or do following\n",
    "# new_pd['year'] = new_pd['year'].astype(df_suicide['year'].dtype)\n",
    "\n",
    "print(new_pd['year'].dtype, df_suicide['year'].dtype)"
   ]
  },
  {
   "cell_type": "code",
   "execution_count": 93,
   "metadata": {
    "ExecuteTime": {
     "end_time": "2019-01-06T17:01:31.036103Z",
     "start_time": "2019-01-06T17:01:31.021489Z"
    }
   },
   "outputs": [
    {
     "data": {
      "text/html": [
       "<div>\n",
       "<style scoped>\n",
       "    .dataframe tbody tr th:only-of-type {\n",
       "        vertical-align: middle;\n",
       "    }\n",
       "\n",
       "    .dataframe tbody tr th {\n",
       "        vertical-align: top;\n",
       "    }\n",
       "\n",
       "    .dataframe thead th {\n",
       "        text-align: right;\n",
       "    }\n",
       "</style>\n",
       "<table border=\"1\" class=\"dataframe\">\n",
       "  <thead>\n",
       "    <tr style=\"text-align: right;\">\n",
       "      <th></th>\n",
       "      <th>country</th>\n",
       "      <th>year</th>\n",
       "      <th>suicide_rate</th>\n",
       "      <th>wage</th>\n",
       "      <th>cor</th>\n",
       "    </tr>\n",
       "  </thead>\n",
       "  <tbody>\n",
       "    <tr>\n",
       "      <th>0</th>\n",
       "      <td>Australia</td>\n",
       "      <td>1990</td>\n",
       "      <td>12.2</td>\n",
       "      <td>36682.942425</td>\n",
       "      <td>NaN</td>\n",
       "    </tr>\n",
       "    <tr>\n",
       "      <th>1</th>\n",
       "      <td>Australia</td>\n",
       "      <td>1991</td>\n",
       "      <td>12.5</td>\n",
       "      <td>36776.247678</td>\n",
       "      <td>NaN</td>\n",
       "    </tr>\n",
       "    <tr>\n",
       "      <th>2</th>\n",
       "      <td>Australia</td>\n",
       "      <td>1992</td>\n",
       "      <td>12.1</td>\n",
       "      <td>37692.129358</td>\n",
       "      <td>NaN</td>\n",
       "    </tr>\n",
       "    <tr>\n",
       "      <th>3</th>\n",
       "      <td>Australia</td>\n",
       "      <td>1993</td>\n",
       "      <td>10.8</td>\n",
       "      <td>38112.690279</td>\n",
       "      <td>NaN</td>\n",
       "    </tr>\n",
       "    <tr>\n",
       "      <th>4</th>\n",
       "      <td>Australia</td>\n",
       "      <td>1994</td>\n",
       "      <td>12.0</td>\n",
       "      <td>38488.116634</td>\n",
       "      <td>NaN</td>\n",
       "    </tr>\n",
       "  </tbody>\n",
       "</table>\n",
       "</div>"
      ],
      "text/plain": [
       "     country  year  suicide_rate          wage  cor\n",
       "0  Australia  1990          12.2  36682.942425  NaN\n",
       "1  Australia  1991          12.5  36776.247678  NaN\n",
       "2  Australia  1992          12.1  37692.129358  NaN\n",
       "3  Australia  1993          10.8  38112.690279  NaN\n",
       "4  Australia  1994          12.0  38488.116634  NaN"
      ]
     },
     "execution_count": 93,
     "metadata": {},
     "output_type": "execute_result"
    }
   ],
   "source": [
    "# merge\n",
    "df_merge = pd.merge(df_suicide, new_pd, left_on=['country', 'year'], right_on=['country', 'year'], how='inner')\n",
    "\n",
    "df_merge.head()"
   ]
  },
  {
   "cell_type": "code",
   "execution_count": 94,
   "metadata": {
    "ExecuteTime": {
     "end_time": "2019-01-06T17:01:32.488589Z",
     "start_time": "2019-01-06T17:01:32.476630Z"
    }
   },
   "outputs": [
    {
     "name": "stdout",
     "output_type": "stream",
     "text": [
      "[12.2 12.5 12.1]\n",
      "[36682.94242455 36776.24767829 37692.12935818]\n"
     ]
    },
    {
     "data": {
      "text/plain": [
       "array([[36682.94242455],\n",
       "       [36776.24767829],\n",
       "       [37692.12935818]])"
      ]
     },
     "execution_count": 94,
     "metadata": {},
     "output_type": "execute_result"
    }
   ],
   "source": [
    "# remove NaN\n",
    "suicide_rates = df_merge[(df_merge.country == 'Australia') & df_merge['suicide_rate'].notnull()].suicide_rate.values\n",
    "wages = df_merge[(df_merge.country == 'Australia') & df_merge['suicide_rate'].notnull()].wage.values\n",
    "\n",
    "print(suicide_rates[:3])\n",
    "print(wages[:3])\n",
    "\n",
    "# reshape doesn't change original data\n",
    "wages.reshape(-1,1)[:3]"
   ]
  },
  {
   "cell_type": "markdown",
   "metadata": {},
   "source": [
    "### Correlation"
   ]
  },
  {
   "cell_type": "code",
   "execution_count": 95,
   "metadata": {
    "ExecuteTime": {
     "end_time": "2019-01-06T17:01:35.295706Z",
     "start_time": "2019-01-06T17:01:35.290647Z"
    }
   },
   "outputs": [
    {
     "name": "stdout",
     "output_type": "stream",
     "text": [
      "-0.6282085337077356 0.00045039592251178585\n",
      "30\n"
     ]
    }
   ],
   "source": [
    "# Correlation\n",
    "cor, p = pearsonr(wages, suicide_rates)\n",
    "print(cor, p)\n",
    "print(len(df_merge.country.unique()))"
   ]
  },
  {
   "cell_type": "code",
   "execution_count": 96,
   "metadata": {
    "ExecuteTime": {
     "end_time": "2019-01-06T17:02:04.872724Z",
     "start_time": "2019-01-06T17:02:04.611563Z"
    }
   },
   "outputs": [],
   "source": [
    "pd_suicide_rate_wage_cor = pd.DataFrame(columns=['country', 'cor', 'p'])\n",
    "\n",
    "for country in df_merge.country.unique():\n",
    "    suicide_rates = df_merge[(df_merge.country == country) & df_merge['suicide_rate'].notnull()].suicide_rate.values\n",
    "    wages = df_merge[(df_merge.country == country) & df_merge['suicide_rate'].notnull()].wage.values\n",
    "    cor, p = pearsonr(wages, suicide_rates)\n",
    "#     print(\"Country: %s, cor:%f, p:%f\"%(country, cor, p))\n",
    "    pd_suicide_rate_wage_cor = pd_suicide_rate_wage_cor.append({'country': country, 'cor': cor, 'p': p}, ignore_index=True)\n",
    "    \n",
    "    "
   ]
  },
  {
   "cell_type": "code",
   "execution_count": 97,
   "metadata": {
    "ExecuteTime": {
     "end_time": "2019-01-06T17:02:05.358060Z",
     "start_time": "2019-01-06T17:02:05.334631Z"
    }
   },
   "outputs": [
    {
     "data": {
      "text/html": [
       "<div>\n",
       "<style scoped>\n",
       "    .dataframe tbody tr th:only-of-type {\n",
       "        vertical-align: middle;\n",
       "    }\n",
       "\n",
       "    .dataframe tbody tr th {\n",
       "        vertical-align: top;\n",
       "    }\n",
       "\n",
       "    .dataframe thead th {\n",
       "        text-align: right;\n",
       "    }\n",
       "</style>\n",
       "<table border=\"1\" class=\"dataframe\">\n",
       "  <thead>\n",
       "    <tr style=\"text-align: right;\">\n",
       "      <th></th>\n",
       "      <th>country</th>\n",
       "      <th>cor</th>\n",
       "      <th>p</th>\n",
       "    </tr>\n",
       "  </thead>\n",
       "  <tbody>\n",
       "    <tr>\n",
       "      <th>0</th>\n",
       "      <td>Australia</td>\n",
       "      <td>-0.628209</td>\n",
       "      <td>4.503959e-04</td>\n",
       "    </tr>\n",
       "    <tr>\n",
       "      <th>1</th>\n",
       "      <td>Austria</td>\n",
       "      <td>-0.979314</td>\n",
       "      <td>7.234952e-19</td>\n",
       "    </tr>\n",
       "    <tr>\n",
       "      <th>2</th>\n",
       "      <td>Belgium</td>\n",
       "      <td>-0.470412</td>\n",
       "      <td>1.327819e-02</td>\n",
       "    </tr>\n",
       "    <tr>\n",
       "      <th>3</th>\n",
       "      <td>Canada</td>\n",
       "      <td>-0.925300</td>\n",
       "      <td>5.039862e-12</td>\n",
       "    </tr>\n",
       "    <tr>\n",
       "      <th>4</th>\n",
       "      <td>Chile</td>\n",
       "      <td>0.571625</td>\n",
       "      <td>6.786564e-03</td>\n",
       "    </tr>\n",
       "    <tr>\n",
       "      <th>5</th>\n",
       "      <td>Czech Republic</td>\n",
       "      <td>-0.832873</td>\n",
       "      <td>1.509612e-06</td>\n",
       "    </tr>\n",
       "    <tr>\n",
       "      <th>6</th>\n",
       "      <td>Denmark</td>\n",
       "      <td>-0.951460</td>\n",
       "      <td>2.656639e-14</td>\n",
       "    </tr>\n",
       "    <tr>\n",
       "      <th>7</th>\n",
       "      <td>Estonia</td>\n",
       "      <td>-0.944564</td>\n",
       "      <td>3.931402e-11</td>\n",
       "    </tr>\n",
       "    <tr>\n",
       "      <th>8</th>\n",
       "      <td>Finland</td>\n",
       "      <td>-0.952206</td>\n",
       "      <td>2.197710e-14</td>\n",
       "    </tr>\n",
       "    <tr>\n",
       "      <th>9</th>\n",
       "      <td>France</td>\n",
       "      <td>-0.954890</td>\n",
       "      <td>1.083002e-14</td>\n",
       "    </tr>\n",
       "    <tr>\n",
       "      <th>10</th>\n",
       "      <td>Greece</td>\n",
       "      <td>-0.470332</td>\n",
       "      <td>2.717700e-02</td>\n",
       "    </tr>\n",
       "    <tr>\n",
       "      <th>11</th>\n",
       "      <td>Hungary</td>\n",
       "      <td>-0.827447</td>\n",
       "      <td>2.028771e-06</td>\n",
       "    </tr>\n",
       "    <tr>\n",
       "      <th>12</th>\n",
       "      <td>Iceland</td>\n",
       "      <td>-0.123999</td>\n",
       "      <td>5.377539e-01</td>\n",
       "    </tr>\n",
       "    <tr>\n",
       "      <th>13</th>\n",
       "      <td>Ireland</td>\n",
       "      <td>0.048597</td>\n",
       "      <td>8.097793e-01</td>\n",
       "    </tr>\n",
       "    <tr>\n",
       "      <th>14</th>\n",
       "      <td>Italy</td>\n",
       "      <td>-0.860490</td>\n",
       "      <td>8.635913e-09</td>\n",
       "    </tr>\n",
       "    <tr>\n",
       "      <th>15</th>\n",
       "      <td>Japan</td>\n",
       "      <td>0.407026</td>\n",
       "      <td>3.510839e-02</td>\n",
       "    </tr>\n",
       "    <tr>\n",
       "      <th>16</th>\n",
       "      <td>Latvia</td>\n",
       "      <td>-0.884462</td>\n",
       "      <td>1.034544e-07</td>\n",
       "    </tr>\n",
       "    <tr>\n",
       "      <th>17</th>\n",
       "      <td>Lithuania</td>\n",
       "      <td>-0.961404</td>\n",
       "      <td>1.128792e-12</td>\n",
       "    </tr>\n",
       "    <tr>\n",
       "      <th>18</th>\n",
       "      <td>Luxembourg</td>\n",
       "      <td>-0.790467</td>\n",
       "      <td>9.316917e-07</td>\n",
       "    </tr>\n",
       "    <tr>\n",
       "      <th>19</th>\n",
       "      <td>Mexico</td>\n",
       "      <td>0.431870</td>\n",
       "      <td>2.448125e-02</td>\n",
       "    </tr>\n",
       "    <tr>\n",
       "      <th>20</th>\n",
       "      <td>Netherlands</td>\n",
       "      <td>-0.079660</td>\n",
       "      <td>6.928667e-01</td>\n",
       "    </tr>\n",
       "    <tr>\n",
       "      <th>21</th>\n",
       "      <td>New Zealand</td>\n",
       "      <td>-0.613064</td>\n",
       "      <td>6.738783e-04</td>\n",
       "    </tr>\n",
       "    <tr>\n",
       "      <th>22</th>\n",
       "      <td>Norway</td>\n",
       "      <td>-0.810498</td>\n",
       "      <td>2.981671e-07</td>\n",
       "    </tr>\n",
       "    <tr>\n",
       "      <th>23</th>\n",
       "      <td>Poland</td>\n",
       "      <td>-0.056033</td>\n",
       "      <td>8.043884e-01</td>\n",
       "    </tr>\n",
       "    <tr>\n",
       "      <th>24</th>\n",
       "      <td>Portugal</td>\n",
       "      <td>0.241073</td>\n",
       "      <td>2.797987e-01</td>\n",
       "    </tr>\n",
       "    <tr>\n",
       "      <th>25</th>\n",
       "      <td>Slovenia</td>\n",
       "      <td>-0.959511</td>\n",
       "      <td>1.807497e-12</td>\n",
       "    </tr>\n",
       "    <tr>\n",
       "      <th>26</th>\n",
       "      <td>Spain</td>\n",
       "      <td>-0.512994</td>\n",
       "      <td>6.213102e-03</td>\n",
       "    </tr>\n",
       "    <tr>\n",
       "      <th>27</th>\n",
       "      <td>Sweden</td>\n",
       "      <td>-0.866168</td>\n",
       "      <td>5.305312e-09</td>\n",
       "    </tr>\n",
       "    <tr>\n",
       "      <th>28</th>\n",
       "      <td>Switzerland</td>\n",
       "      <td>-0.973964</td>\n",
       "      <td>1.246141e-17</td>\n",
       "    </tr>\n",
       "    <tr>\n",
       "      <th>29</th>\n",
       "      <td>United Kingdom</td>\n",
       "      <td>-0.797104</td>\n",
       "      <td>6.477054e-07</td>\n",
       "    </tr>\n",
       "  </tbody>\n",
       "</table>\n",
       "</div>"
      ],
      "text/plain": [
       "           country       cor             p\n",
       "0        Australia -0.628209  4.503959e-04\n",
       "1          Austria -0.979314  7.234952e-19\n",
       "2          Belgium -0.470412  1.327819e-02\n",
       "3           Canada -0.925300  5.039862e-12\n",
       "4            Chile  0.571625  6.786564e-03\n",
       "5   Czech Republic -0.832873  1.509612e-06\n",
       "6          Denmark -0.951460  2.656639e-14\n",
       "7          Estonia -0.944564  3.931402e-11\n",
       "8          Finland -0.952206  2.197710e-14\n",
       "9           France -0.954890  1.083002e-14\n",
       "10          Greece -0.470332  2.717700e-02\n",
       "11         Hungary -0.827447  2.028771e-06\n",
       "12         Iceland -0.123999  5.377539e-01\n",
       "13         Ireland  0.048597  8.097793e-01\n",
       "14           Italy -0.860490  8.635913e-09\n",
       "15           Japan  0.407026  3.510839e-02\n",
       "16          Latvia -0.884462  1.034544e-07\n",
       "17       Lithuania -0.961404  1.128792e-12\n",
       "18      Luxembourg -0.790467  9.316917e-07\n",
       "19          Mexico  0.431870  2.448125e-02\n",
       "20     Netherlands -0.079660  6.928667e-01\n",
       "21     New Zealand -0.613064  6.738783e-04\n",
       "22          Norway -0.810498  2.981671e-07\n",
       "23          Poland -0.056033  8.043884e-01\n",
       "24        Portugal  0.241073  2.797987e-01\n",
       "25        Slovenia -0.959511  1.807497e-12\n",
       "26           Spain -0.512994  6.213102e-03\n",
       "27          Sweden -0.866168  5.305312e-09\n",
       "28     Switzerland -0.973964  1.246141e-17\n",
       "29  United Kingdom -0.797104  6.477054e-07"
      ]
     },
     "execution_count": 97,
     "metadata": {},
     "output_type": "execute_result"
    }
   ],
   "source": [
    "pd_suicide_rate_wage_cor"
   ]
  },
  {
   "cell_type": "code",
   "execution_count": 98,
   "metadata": {
    "ExecuteTime": {
     "end_time": "2019-01-06T17:02:07.240858Z",
     "start_time": "2019-01-06T17:02:07.210043Z"
    }
   },
   "outputs": [
    {
     "name": "stdout",
     "output_type": "stream",
     "text": [
      "(5, 3)\n",
      "(0, 3) (17, 3) (0, 3) (0, 3) (3, 3) (5, 3)\n",
      "Series([], Name: country, dtype: object) \n",
      " 1            Austria\n",
      "3             Canada\n",
      "5     Czech Republic\n",
      "6            Denmark\n",
      "7            Estonia\n",
      "8            Finland\n",
      "9             France\n",
      "11           Hungary\n",
      "14             Italy\n",
      "16            Latvia\n",
      "17         Lithuania\n",
      "18        Luxembourg\n",
      "22            Norway\n",
      "25          Slovenia\n",
      "27            Sweden\n",
      "28       Switzerland\n",
      "29    United Kingdom\n",
      "Name: country, dtype: object \n",
      " Series([], Name: country, dtype: object) \n",
      " Series([], Name: country, dtype: object) \n",
      " 4      Chile\n",
      "15     Japan\n",
      "19    Mexico\n",
      "Name: country, dtype: object \n",
      " 0       Australia\n",
      "2         Belgium\n",
      "10         Greece\n",
      "21    New Zealand\n",
      "26          Spain\n",
      "Name: country, dtype: object\n",
      "12        Iceland\n",
      "13        Ireland\n",
      "20    Netherlands\n",
      "23         Poland\n",
      "24       Portugal\n",
      "Name: country, dtype: object\n"
     ]
    }
   ],
   "source": [
    "large = pd_suicide_rate_wage_cor[(pd_suicide_rate_wage_cor.p <= 0.05) & (pd_suicide_rate_wage_cor.cor >= 0.7)]\n",
    "small = pd_suicide_rate_wage_cor[(pd_suicide_rate_wage_cor.p <= 0.05) & (pd_suicide_rate_wage_cor.cor <= 0.3) & (pd_suicide_rate_wage_cor.cor >=0)]\n",
    "median = pd_suicide_rate_wage_cor[(pd_suicide_rate_wage_cor.p <= 0.05) & (pd_suicide_rate_wage_cor.cor < 0.7) & (pd_suicide_rate_wage_cor.cor > 0.3)]\n",
    "\n",
    "m_large = pd_suicide_rate_wage_cor[(pd_suicide_rate_wage_cor.p <= 0.05) & (pd_suicide_rate_wage_cor.cor <= -0.7)]\n",
    "m_small = pd_suicide_rate_wage_cor[(pd_suicide_rate_wage_cor.p <= 0.05) & (pd_suicide_rate_wage_cor.cor >= -0.3) & (pd_suicide_rate_wage_cor.cor < 0)]\n",
    "m_median = pd_suicide_rate_wage_cor[(pd_suicide_rate_wage_cor.p <= 0.05) & (pd_suicide_rate_wage_cor.cor > -0.7) & (pd_suicide_rate_wage_cor.cor < -0.3)]\n",
    "\n",
    "rest = pd_suicide_rate_wage_cor[(pd_suicide_rate_wage_cor.p > 0.05)]\n",
    "print(rest.shape)\n",
    "print(large.shape, m_large.shape, small.shape, m_small.shape, median.shape, m_median.shape)\n",
    "print(large.country,'\\n', m_large.country, '\\n', small.country,'\\n', m_small.country,'\\n', median.country,'\\n', m_median.country)\n",
    "print(rest.country)\n",
    "\n"
   ]
  },
  {
   "cell_type": "code",
   "execution_count": 99,
   "metadata": {
    "ExecuteTime": {
     "end_time": "2019-01-06T17:02:12.916975Z",
     "start_time": "2019-01-06T17:02:12.910073Z"
    }
   },
   "outputs": [],
   "source": [
    "pd_suicide_rate_wage_cor.to_csv(\"suicide_rate_wages_cor.csv\",index = False)"
   ]
  },
  {
   "cell_type": "markdown",
   "metadata": {
    "ExecuteTime": {
     "end_time": "2019-01-03T19:08:16.746878Z",
     "start_time": "2019-01-03T19:08:16.743931Z"
    }
   },
   "source": [
    "### Regression"
   ]
  },
  {
   "cell_type": "code",
   "execution_count": 63,
   "metadata": {
    "ExecuteTime": {
     "end_time": "2019-01-06T16:00:37.976807Z",
     "start_time": "2019-01-06T16:00:37.938838Z"
    }
   },
   "outputs": [
    {
     "name": "stdout",
     "output_type": "stream",
     "text": [
      "[-6.39919267e-05] 8.98136969602467\n"
     ]
    }
   ],
   "source": [
    "# Regression\n",
    "reg = linear_model.LinearRegression()\n",
    "\n",
    "# make wages to 1 dimension (wages.reshape(-1)), and then shape to 1 column shape\n",
    "reg.fit(wages.reshape(-1,1), suicide_rates)\n",
    "\n",
    "# slope and intercept\n",
    "print(reg.coef_, reg.intercept_)"
   ]
  },
  {
   "cell_type": "code",
   "execution_count": 64,
   "metadata": {
    "ExecuteTime": {
     "end_time": "2019-01-06T16:00:40.340951Z",
     "start_time": "2019-01-06T16:00:40.335692Z"
    }
   },
   "outputs": [
    {
     "data": {
      "text/plain": [
       "array([8.85402576])"
      ]
     },
     "execution_count": 64,
     "metadata": {},
     "output_type": "execute_result"
    }
   ],
   "source": [
    "reg.predict([[1990]])"
   ]
  },
  {
   "cell_type": "code",
   "execution_count": 65,
   "metadata": {
    "ExecuteTime": {
     "end_time": "2019-01-06T16:00:44.550398Z",
     "start_time": "2019-01-06T16:00:44.392626Z"
    }
   },
   "outputs": [
    {
     "data": {
      "image/png": "[encoded data removed]",
      "text/plain": [
       "<Figure size 432x288 with 1 Axes>"
      ]
     },
     "metadata": {
      "needs_background": "light"
     },
     "output_type": "display_data"
    }
   ],
   "source": [
    "line = reg.coef_*wages.reshape(-1, 1)+reg.intercept_\n",
    "\n",
    "plt.scatter(wages, suicide_rates)\n",
    "plt.plot(wages.reshape(-1,1), suicide_rates,'o', wages.reshape(-1,1), line)\n",
    "plt.show()\n"
   ]
  },
  {
   "cell_type": "code",
   "execution_count": 66,
   "metadata": {
    "ExecuteTime": {
     "end_time": "2019-01-06T16:01:18.963640Z",
     "start_time": "2019-01-06T16:01:18.956694Z"
    }
   },
   "outputs": [
    {
     "data": {
      "text/plain": [
       "0.6353749514097657"
      ]
     },
     "execution_count": 66,
     "metadata": {},
     "output_type": "execute_result"
    }
   ],
   "source": [
    "reg.score(wages.reshape(-1,1), suicide_rates)"
   ]
  },
  {
   "cell_type": "markdown",
   "metadata": {},
   "source": [
    "## Population density"
   ]
  },
  {
   "cell_type": "markdown",
   "metadata": {},
   "source": [
    "### merge file"
   ]
  },
  {
   "cell_type": "code",
   "execution_count": 69,
   "metadata": {
    "ExecuteTime": {
     "end_time": "2019-01-06T16:13:24.366481Z",
     "start_time": "2019-01-06T16:12:38.905540Z"
    }
   },
   "outputs": [],
   "source": [
    "pop_file = '../pop_dens_world_bank.csv'\n",
    "suicide_file = '../Adjusted Suicide Rate(fillna).csv'\n",
    "df_pop = pd.read_csv(pop_file, skiprows=4)\n",
    "df_suicide = pd.read_csv(suicide_file)\n",
    "\n",
    "# countries = [\n",
    "#     'AUS', 'AUT', 'BEL', 'BRA',\n",
    "#     'CAN', 'CHE', 'CHL', 'CHN', 'COL',\n",
    "#     'CRI', 'CZE', 'DEU', 'DNK', 'ESP',\n",
    "#     'EST', 'FIN', 'FRA', 'GBR', 'GRC',\n",
    "#     'HUN', 'IDN', 'IND', 'IRL', 'ISL',\n",
    "#     'ISR', 'ITA', 'JPN', 'KOR', 'LTU',\n",
    "#     'LUX', 'LVA', 'MEX', 'NLD', 'NOR',\n",
    "#     'NZL', 'POL', 'PRT', 'RUS', 'SVK',\n",
    "#     'SVN', 'SWE', 'TUR', 'USA', 'ZAF'\n",
    "# ]\n",
    "\n",
    "# # filter out unnecessary country district\n",
    "# df_pop_filtered = df_pop[df_pop['METRO_ID'].isin(countries)]\n",
    "\n",
    "# new_pd = pd.DataFrame(columns=['country', 'year', 'type', 'value', 'cor'])\n",
    "\n",
    "# # create new_pd to store mappedCountry from df_wage\n",
    "# for index,row in df_pop_filtered.iterrows():\n",
    "#     new_pd = new_pd.append({'country': countryMapping[row['METRO_ID']], 'year': row['TIME'], 'type': row['VAR'], 'value': row['Value']}, ignore_index=True)\n",
    "\n",
    "# transpose dataset from world bank\n",
    "new_pd = pd.DataFrame(columns=['country', 'year', 'value', 'cor'])\n",
    "for index, row in df_pop.iterrows():\n",
    "    for year in range(1961, 2017):\n",
    "        new_pd = new_pd.append({'country': row['Country Name'], 'year': year, 'value': row[str(year)]}, ignore_index=True)\n",
    "        \n",
    "        "
   ]
  },
  {
   "cell_type": "code",
   "execution_count": 70,
   "metadata": {
    "ExecuteTime": {
     "end_time": "2019-01-06T16:13:26.693766Z",
     "start_time": "2019-01-06T16:13:26.679719Z"
    }
   },
   "outputs": [
    {
     "name": "stdout",
     "output_type": "stream",
     "text": [
      "(264,)\n"
     ]
    },
    {
     "data": {
      "text/html": [
       "<div>\n",
       "<style scoped>\n",
       "    .dataframe tbody tr th:only-of-type {\n",
       "        vertical-align: middle;\n",
       "    }\n",
       "\n",
       "    .dataframe tbody tr th {\n",
       "        vertical-align: top;\n",
       "    }\n",
       "\n",
       "    .dataframe thead th {\n",
       "        text-align: right;\n",
       "    }\n",
       "</style>\n",
       "<table border=\"1\" class=\"dataframe\">\n",
       "  <thead>\n",
       "    <tr style=\"text-align: right;\">\n",
       "      <th></th>\n",
       "      <th>country</th>\n",
       "      <th>year</th>\n",
       "      <th>value</th>\n",
       "      <th>cor</th>\n",
       "    </tr>\n",
       "  </thead>\n",
       "  <tbody>\n",
       "    <tr>\n",
       "      <th>0</th>\n",
       "      <td>Aruba</td>\n",
       "      <td>1961</td>\n",
       "      <td>307.988889</td>\n",
       "      <td>NaN</td>\n",
       "    </tr>\n",
       "    <tr>\n",
       "      <th>1</th>\n",
       "      <td>Aruba</td>\n",
       "      <td>1962</td>\n",
       "      <td>312.361111</td>\n",
       "      <td>NaN</td>\n",
       "    </tr>\n",
       "    <tr>\n",
       "      <th>2</th>\n",
       "      <td>Aruba</td>\n",
       "      <td>1963</td>\n",
       "      <td>314.972222</td>\n",
       "      <td>NaN</td>\n",
       "    </tr>\n",
       "    <tr>\n",
       "      <th>3</th>\n",
       "      <td>Aruba</td>\n",
       "      <td>1964</td>\n",
       "      <td>316.844444</td>\n",
       "      <td>NaN</td>\n",
       "    </tr>\n",
       "    <tr>\n",
       "      <th>4</th>\n",
       "      <td>Aruba</td>\n",
       "      <td>1965</td>\n",
       "      <td>318.666667</td>\n",
       "      <td>NaN</td>\n",
       "    </tr>\n",
       "  </tbody>\n",
       "</table>\n",
       "</div>"
      ],
      "text/plain": [
       "  country  year       value  cor\n",
       "0   Aruba  1961  307.988889  NaN\n",
       "1   Aruba  1962  312.361111  NaN\n",
       "2   Aruba  1963  314.972222  NaN\n",
       "3   Aruba  1964  316.844444  NaN\n",
       "4   Aruba  1965  318.666667  NaN"
      ]
     },
     "execution_count": 70,
     "metadata": {},
     "output_type": "execute_result"
    }
   ],
   "source": [
    "# print(df_pop_filtered.METRO_ID.unique().shape)\n",
    "print(new_pd.country.unique().shape)\n",
    "new_pd.head()"
   ]
  },
  {
   "cell_type": "code",
   "execution_count": 71,
   "metadata": {
    "ExecuteTime": {
     "end_time": "2019-01-06T16:13:31.926254Z",
     "start_time": "2019-01-06T16:13:31.917375Z"
    }
   },
   "outputs": [
    {
     "data": {
      "text/html": [
       "<div>\n",
       "<style scoped>\n",
       "    .dataframe tbody tr th:only-of-type {\n",
       "        vertical-align: middle;\n",
       "    }\n",
       "\n",
       "    .dataframe tbody tr th {\n",
       "        vertical-align: top;\n",
       "    }\n",
       "\n",
       "    .dataframe thead th {\n",
       "        text-align: right;\n",
       "    }\n",
       "</style>\n",
       "<table border=\"1\" class=\"dataframe\">\n",
       "  <thead>\n",
       "    <tr style=\"text-align: right;\">\n",
       "      <th></th>\n",
       "      <th>country</th>\n",
       "      <th>year</th>\n",
       "      <th>suicide_rate</th>\n",
       "    </tr>\n",
       "  </thead>\n",
       "  <tbody>\n",
       "    <tr>\n",
       "      <th>0</th>\n",
       "      <td>Albania</td>\n",
       "      <td>1979</td>\n",
       "      <td>2.721614</td>\n",
       "    </tr>\n",
       "    <tr>\n",
       "      <th>1</th>\n",
       "      <td>Albania</td>\n",
       "      <td>1980</td>\n",
       "      <td>2.734478</td>\n",
       "    </tr>\n",
       "    <tr>\n",
       "      <th>2</th>\n",
       "      <td>Albania</td>\n",
       "      <td>1981</td>\n",
       "      <td>2.747342</td>\n",
       "    </tr>\n",
       "    <tr>\n",
       "      <th>3</th>\n",
       "      <td>Albania</td>\n",
       "      <td>1982</td>\n",
       "      <td>2.760206</td>\n",
       "    </tr>\n",
       "    <tr>\n",
       "      <th>4</th>\n",
       "      <td>Albania</td>\n",
       "      <td>1983</td>\n",
       "      <td>2.773070</td>\n",
       "    </tr>\n",
       "  </tbody>\n",
       "</table>\n",
       "</div>"
      ],
      "text/plain": [
       "   country  year  suicide_rate\n",
       "0  Albania  1979      2.721614\n",
       "1  Albania  1980      2.734478\n",
       "2  Albania  1981      2.747342\n",
       "3  Albania  1982      2.760206\n",
       "4  Albania  1983      2.773070"
      ]
     },
     "execution_count": 71,
     "metadata": {},
     "output_type": "execute_result"
    }
   ],
   "source": [
    "df_suicide.head()"
   ]
  },
  {
   "cell_type": "code",
   "execution_count": 72,
   "metadata": {
    "ExecuteTime": {
     "end_time": "2019-01-06T16:13:40.161200Z",
     "start_time": "2019-01-06T16:13:40.153858Z"
    }
   },
   "outputs": [
    {
     "name": "stdout",
     "output_type": "stream",
     "text": [
      "object int64 object object\n",
      "int64 int64\n"
     ]
    }
   ],
   "source": [
    "# convert type\n",
    "print(df_suicide['country'].dtype,df_suicide['year'].dtype, new_pd['country'].dtype, new_pd['year'].dtype)\n",
    "\n",
    "# Before merge, joined column should be converted to same data type\n",
    "# new_pd['year'] = new_pd['year'].apply(int)\n",
    "\n",
    "# or do following\n",
    "new_pd['year'] = new_pd['year'].astype(df_suicide['year'].dtype)\n",
    "\n",
    "print(new_pd['year'].dtype, df_suicide['year'].dtype)"
   ]
  },
  {
   "cell_type": "code",
   "execution_count": 73,
   "metadata": {
    "ExecuteTime": {
     "end_time": "2019-01-06T16:14:03.870295Z",
     "start_time": "2019-01-06T16:14:03.851649Z"
    }
   },
   "outputs": [
    {
     "data": {
      "text/html": [
       "<div>\n",
       "<style scoped>\n",
       "    .dataframe tbody tr th:only-of-type {\n",
       "        vertical-align: middle;\n",
       "    }\n",
       "\n",
       "    .dataframe tbody tr th {\n",
       "        vertical-align: top;\n",
       "    }\n",
       "\n",
       "    .dataframe thead th {\n",
       "        text-align: right;\n",
       "    }\n",
       "</style>\n",
       "<table border=\"1\" class=\"dataframe\">\n",
       "  <thead>\n",
       "    <tr style=\"text-align: right;\">\n",
       "      <th></th>\n",
       "      <th>country</th>\n",
       "      <th>year</th>\n",
       "      <th>suicide_rate</th>\n",
       "      <th>value</th>\n",
       "      <th>cor</th>\n",
       "    </tr>\n",
       "  </thead>\n",
       "  <tbody>\n",
       "    <tr>\n",
       "      <th>0</th>\n",
       "      <td>Albania</td>\n",
       "      <td>1979</td>\n",
       "      <td>2.721614</td>\n",
       "      <td>95.541314</td>\n",
       "      <td>NaN</td>\n",
       "    </tr>\n",
       "    <tr>\n",
       "      <th>1</th>\n",
       "      <td>Albania</td>\n",
       "      <td>1980</td>\n",
       "      <td>2.734478</td>\n",
       "      <td>97.518139</td>\n",
       "      <td>NaN</td>\n",
       "    </tr>\n",
       "    <tr>\n",
       "      <th>2</th>\n",
       "      <td>Albania</td>\n",
       "      <td>1981</td>\n",
       "      <td>2.747342</td>\n",
       "      <td>99.491095</td>\n",
       "      <td>NaN</td>\n",
       "    </tr>\n",
       "    <tr>\n",
       "      <th>3</th>\n",
       "      <td>Albania</td>\n",
       "      <td>1982</td>\n",
       "      <td>2.760206</td>\n",
       "      <td>101.615985</td>\n",
       "      <td>NaN</td>\n",
       "    </tr>\n",
       "    <tr>\n",
       "      <th>4</th>\n",
       "      <td>Albania</td>\n",
       "      <td>1983</td>\n",
       "      <td>2.773070</td>\n",
       "      <td>103.794161</td>\n",
       "      <td>NaN</td>\n",
       "    </tr>\n",
       "  </tbody>\n",
       "</table>\n",
       "</div>"
      ],
      "text/plain": [
       "   country  year  suicide_rate       value  cor\n",
       "0  Albania  1979      2.721614   95.541314  NaN\n",
       "1  Albania  1980      2.734478   97.518139  NaN\n",
       "2  Albania  1981      2.747342   99.491095  NaN\n",
       "3  Albania  1982      2.760206  101.615985  NaN\n",
       "4  Albania  1983      2.773070  103.794161  NaN"
      ]
     },
     "execution_count": 73,
     "metadata": {},
     "output_type": "execute_result"
    }
   ],
   "source": [
    "# merge\n",
    "df_merge = pd.merge(df_suicide, new_pd, left_on=['country', 'year'], right_on=['country', 'year'], how='inner')\n",
    "\n",
    "df_merge.head()"
   ]
  },
  {
   "cell_type": "code",
   "execution_count": 75,
   "metadata": {
    "ExecuteTime": {
     "end_time": "2019-01-06T16:14:30.229653Z",
     "start_time": "2019-01-06T16:14:30.226129Z"
    }
   },
   "outputs": [],
   "source": [
    "# devide pop and pop_dens and remove NaN\n",
    "# suicide_rates_pop = df_merge[(df_merge.type == 'POP') & (df_merge.country == 'Australia') & df_merge['suicide_rate'].notnull()].suicide_rate.values\n",
    "# pop = df_merge[(df_merge.type == 'POP') & (df_merge.country == 'Australia') & df_merge['suicide_rate'].notnull()].value.values\n",
    "\n",
    "# suicide_rates_pop_dens = df_merge[(df_merge.type == 'POP_DENS') & (df_merge.country == 'Australia') & df_merge['suicide_rate'].notnull()].suicide_rate.values\n",
    "# pop_dens = df_merge[(df_merge.type == 'POP_DENS') & (df_merge.country == 'Australia') & df_merge['suicide_rate'].notnull()].value.values\n",
    "\n",
    "# print(suicide_rates_pop_dens.shape)\n",
    "# print(pop.shape)\n",
    "# print(pop_dens.shape)"
   ]
  },
  {
   "cell_type": "markdown",
   "metadata": {},
   "source": [
    "### Correlation"
   ]
  },
  {
   "cell_type": "code",
   "execution_count": 85,
   "metadata": {
    "ExecuteTime": {
     "end_time": "2019-01-06T16:21:08.045448Z",
     "start_time": "2019-01-06T16:21:08.040009Z"
    }
   },
   "outputs": [
    {
     "name": "stdout",
     "output_type": "stream",
     "text": [
      "-0.305895510850681 0.2875052196752849\n",
      "76\n"
     ]
    }
   ],
   "source": [
    "# Correlation\n",
    "cor, p = pearsonr(pop, suicide_rates_pop)\n",
    "print(cor, p)\n",
    "print(len(df_merge.country.unique()))"
   ]
  },
  {
   "cell_type": "code",
   "execution_count": 78,
   "metadata": {
    "ExecuteTime": {
     "end_time": "2019-01-06T16:16:03.187246Z",
     "start_time": "2019-01-06T16:16:02.805082Z"
    }
   },
   "outputs": [],
   "source": [
    "pd_suicide_rate_pop_dens_cor = pd.DataFrame(columns=['country', 'cor', 'p'])\n",
    "\n",
    "for country in df_merge.country.unique():\n",
    "#     suicide_rates_pop_dens = df_merge[(df_merge.type == 'POP_DENS') & (df_merge.country == country) & df_merge['suicide_rate'].notnull()].suicide_rate.values\n",
    "#     pop_dens = df_merge[(df_merge.type == 'POP_DENS') & (df_merge.country == country) & df_merge['suicide_rate'].notnull()].value.values\n",
    "    suicide_rates_pop_dens = df_merge[(df_merge.country == country) & df_merge['suicide_rate'].notnull()].suicide_rate.values\n",
    "    pop_dens = df_merge[(df_merge.country == country) & df_merge['suicide_rate'].notnull()].value.values\n",
    "    cor, p = pearsonr(pop_dens, suicide_rates_pop_dens)\n",
    "#     print(\"Country: %s, cor:%f, p:%f\"%(country, cor, p))\n",
    "    pd_suicide_rate_pop_dens_cor = pd_suicide_rate_pop_dens_cor.append({'country': country, 'cor': cor, 'p': p}, ignore_index=True)\n",
    "    \n",
    "    "
   ]
  },
  {
   "cell_type": "code",
   "execution_count": 79,
   "metadata": {
    "ExecuteTime": {
     "end_time": "2019-01-06T16:16:07.856367Z",
     "start_time": "2019-01-06T16:16:07.838645Z"
    }
   },
   "outputs": [
    {
     "data": {
      "text/html": [
       "<div>\n",
       "<style scoped>\n",
       "    .dataframe tbody tr th:only-of-type {\n",
       "        vertical-align: middle;\n",
       "    }\n",
       "\n",
       "    .dataframe tbody tr th {\n",
       "        vertical-align: top;\n",
       "    }\n",
       "\n",
       "    .dataframe thead th {\n",
       "        text-align: right;\n",
       "    }\n",
       "</style>\n",
       "<table border=\"1\" class=\"dataframe\">\n",
       "  <thead>\n",
       "    <tr style=\"text-align: right;\">\n",
       "      <th></th>\n",
       "      <th>country</th>\n",
       "      <th>cor</th>\n",
       "      <th>p</th>\n",
       "    </tr>\n",
       "  </thead>\n",
       "  <tbody>\n",
       "    <tr>\n",
       "      <th>0</th>\n",
       "      <td>Albania</td>\n",
       "      <td>0.018828</td>\n",
       "      <td>9.106671e-01</td>\n",
       "    </tr>\n",
       "    <tr>\n",
       "      <th>1</th>\n",
       "      <td>Argentina</td>\n",
       "      <td>0.216133</td>\n",
       "      <td>1.924738e-01</td>\n",
       "    </tr>\n",
       "    <tr>\n",
       "      <th>2</th>\n",
       "      <td>Armenia</td>\n",
       "      <td>0.488656</td>\n",
       "      <td>1.852903e-03</td>\n",
       "    </tr>\n",
       "    <tr>\n",
       "      <th>3</th>\n",
       "      <td>Aruba</td>\n",
       "      <td>0.396719</td>\n",
       "      <td>1.366383e-02</td>\n",
       "    </tr>\n",
       "    <tr>\n",
       "      <th>4</th>\n",
       "      <td>Australia</td>\n",
       "      <td>-0.472288</td>\n",
       "      <td>2.754609e-03</td>\n",
       "    </tr>\n",
       "    <tr>\n",
       "      <th>5</th>\n",
       "      <td>Austria</td>\n",
       "      <td>-0.968260</td>\n",
       "      <td>2.859634e-23</td>\n",
       "    </tr>\n",
       "    <tr>\n",
       "      <th>6</th>\n",
       "      <td>Azerbaijan</td>\n",
       "      <td>-0.932852</td>\n",
       "      <td>1.539755e-17</td>\n",
       "    </tr>\n",
       "    <tr>\n",
       "      <th>7</th>\n",
       "      <td>Bahrain</td>\n",
       "      <td>-0.387078</td>\n",
       "      <td>1.635823e-02</td>\n",
       "    </tr>\n",
       "    <tr>\n",
       "      <th>8</th>\n",
       "      <td>Barbados</td>\n",
       "      <td>-0.518992</td>\n",
       "      <td>8.421397e-04</td>\n",
       "    </tr>\n",
       "    <tr>\n",
       "      <th>9</th>\n",
       "      <td>Belarus</td>\n",
       "      <td>0.240837</td>\n",
       "      <td>1.452377e-01</td>\n",
       "    </tr>\n",
       "    <tr>\n",
       "      <th>10</th>\n",
       "      <td>Belgium</td>\n",
       "      <td>NaN</td>\n",
       "      <td>1.000000e+00</td>\n",
       "    </tr>\n",
       "    <tr>\n",
       "      <th>11</th>\n",
       "      <td>Belize</td>\n",
       "      <td>0.667232</td>\n",
       "      <td>4.760917e-06</td>\n",
       "    </tr>\n",
       "    <tr>\n",
       "      <th>12</th>\n",
       "      <td>Brazil</td>\n",
       "      <td>0.899663</td>\n",
       "      <td>1.608728e-14</td>\n",
       "    </tr>\n",
       "    <tr>\n",
       "      <th>13</th>\n",
       "      <td>Brunei Darussalam</td>\n",
       "      <td>-0.789007</td>\n",
       "      <td>3.988741e-09</td>\n",
       "    </tr>\n",
       "    <tr>\n",
       "      <th>14</th>\n",
       "      <td>Bulgaria</td>\n",
       "      <td>0.842256</td>\n",
       "      <td>3.390144e-11</td>\n",
       "    </tr>\n",
       "    <tr>\n",
       "      <th>15</th>\n",
       "      <td>Canada</td>\n",
       "      <td>-0.958781</td>\n",
       "      <td>2.921483e-21</td>\n",
       "    </tr>\n",
       "    <tr>\n",
       "      <th>16</th>\n",
       "      <td>Chile</td>\n",
       "      <td>0.857917</td>\n",
       "      <td>5.909517e-12</td>\n",
       "    </tr>\n",
       "    <tr>\n",
       "      <th>17</th>\n",
       "      <td>Colombia</td>\n",
       "      <td>0.673529</td>\n",
       "      <td>3.582278e-06</td>\n",
       "    </tr>\n",
       "    <tr>\n",
       "      <th>18</th>\n",
       "      <td>Costa Rica</td>\n",
       "      <td>0.447240</td>\n",
       "      <td>4.874312e-03</td>\n",
       "    </tr>\n",
       "    <tr>\n",
       "      <th>19</th>\n",
       "      <td>Croatia</td>\n",
       "      <td>0.793528</td>\n",
       "      <td>2.811769e-09</td>\n",
       "    </tr>\n",
       "    <tr>\n",
       "      <th>20</th>\n",
       "      <td>Cuba</td>\n",
       "      <td>-0.967581</td>\n",
       "      <td>4.164480e-23</td>\n",
       "    </tr>\n",
       "    <tr>\n",
       "      <th>21</th>\n",
       "      <td>Czech Republic</td>\n",
       "      <td>-0.333660</td>\n",
       "      <td>4.063950e-02</td>\n",
       "    </tr>\n",
       "    <tr>\n",
       "      <th>22</th>\n",
       "      <td>Denmark</td>\n",
       "      <td>-0.929384</td>\n",
       "      <td>3.703548e-17</td>\n",
       "    </tr>\n",
       "    <tr>\n",
       "      <th>23</th>\n",
       "      <td>Ecuador</td>\n",
       "      <td>0.611941</td>\n",
       "      <td>4.457384e-05</td>\n",
       "    </tr>\n",
       "    <tr>\n",
       "      <th>24</th>\n",
       "      <td>El Salvador</td>\n",
       "      <td>-0.911909</td>\n",
       "      <td>1.712700e-15</td>\n",
       "    </tr>\n",
       "    <tr>\n",
       "      <th>25</th>\n",
       "      <td>Estonia</td>\n",
       "      <td>0.632410</td>\n",
       "      <td>2.048670e-05</td>\n",
       "    </tr>\n",
       "    <tr>\n",
       "      <th>26</th>\n",
       "      <td>Finland</td>\n",
       "      <td>-0.982110</td>\n",
       "      <td>1.055943e-27</td>\n",
       "    </tr>\n",
       "    <tr>\n",
       "      <th>27</th>\n",
       "      <td>France</td>\n",
       "      <td>-0.926490</td>\n",
       "      <td>7.449596e-17</td>\n",
       "    </tr>\n",
       "    <tr>\n",
       "      <th>28</th>\n",
       "      <td>Georgia</td>\n",
       "      <td>0.382571</td>\n",
       "      <td>1.776336e-02</td>\n",
       "    </tr>\n",
       "    <tr>\n",
       "      <th>29</th>\n",
       "      <td>Germany</td>\n",
       "      <td>-0.809438</td>\n",
       "      <td>7.642072e-10</td>\n",
       "    </tr>\n",
       "    <tr>\n",
       "      <th>...</th>\n",
       "      <td>...</td>\n",
       "      <td>...</td>\n",
       "      <td>...</td>\n",
       "    </tr>\n",
       "    <tr>\n",
       "      <th>46</th>\n",
       "      <td>Maldives</td>\n",
       "      <td>-0.907673</td>\n",
       "      <td>3.849325e-15</td>\n",
       "    </tr>\n",
       "    <tr>\n",
       "      <th>47</th>\n",
       "      <td>Malta</td>\n",
       "      <td>0.835205</td>\n",
       "      <td>7.006185e-11</td>\n",
       "    </tr>\n",
       "    <tr>\n",
       "      <th>48</th>\n",
       "      <td>Mauritius</td>\n",
       "      <td>-0.068918</td>\n",
       "      <td>6.809722e-01</td>\n",
       "    </tr>\n",
       "    <tr>\n",
       "      <th>49</th>\n",
       "      <td>Mexico</td>\n",
       "      <td>0.976233</td>\n",
       "      <td>1.671749e-25</td>\n",
       "    </tr>\n",
       "    <tr>\n",
       "      <th>50</th>\n",
       "      <td>Netherlands</td>\n",
       "      <td>-0.688877</td>\n",
       "      <td>1.738995e-06</td>\n",
       "    </tr>\n",
       "    <tr>\n",
       "      <th>51</th>\n",
       "      <td>New Zealand</td>\n",
       "      <td>0.022669</td>\n",
       "      <td>8.925409e-01</td>\n",
       "    </tr>\n",
       "    <tr>\n",
       "      <th>52</th>\n",
       "      <td>Norway</td>\n",
       "      <td>-0.873334</td>\n",
       "      <td>8.532020e-13</td>\n",
       "    </tr>\n",
       "    <tr>\n",
       "      <th>53</th>\n",
       "      <td>Panama</td>\n",
       "      <td>0.517882</td>\n",
       "      <td>8.679214e-04</td>\n",
       "    </tr>\n",
       "    <tr>\n",
       "      <th>54</th>\n",
       "      <td>Paraguay</td>\n",
       "      <td>0.942407</td>\n",
       "      <td>1.051709e-18</td>\n",
       "    </tr>\n",
       "    <tr>\n",
       "      <th>55</th>\n",
       "      <td>Philippines</td>\n",
       "      <td>0.989225</td>\n",
       "      <td>1.215599e-31</td>\n",
       "    </tr>\n",
       "    <tr>\n",
       "      <th>56</th>\n",
       "      <td>Poland</td>\n",
       "      <td>0.268694</td>\n",
       "      <td>1.028555e-01</td>\n",
       "    </tr>\n",
       "    <tr>\n",
       "      <th>57</th>\n",
       "      <td>Portugal</td>\n",
       "      <td>-0.191740</td>\n",
       "      <td>2.488203e-01</td>\n",
       "    </tr>\n",
       "    <tr>\n",
       "      <th>58</th>\n",
       "      <td>Puerto Rico</td>\n",
       "      <td>-0.576300</td>\n",
       "      <td>1.527703e-04</td>\n",
       "    </tr>\n",
       "    <tr>\n",
       "      <th>59</th>\n",
       "      <td>Romania</td>\n",
       "      <td>0.554150</td>\n",
       "      <td>3.065685e-04</td>\n",
       "    </tr>\n",
       "    <tr>\n",
       "      <th>60</th>\n",
       "      <td>Russian Federation</td>\n",
       "      <td>0.193054</td>\n",
       "      <td>2.455313e-01</td>\n",
       "    </tr>\n",
       "    <tr>\n",
       "      <th>61</th>\n",
       "      <td>Serbia</td>\n",
       "      <td>NaN</td>\n",
       "      <td>1.000000e+00</td>\n",
       "    </tr>\n",
       "    <tr>\n",
       "      <th>62</th>\n",
       "      <td>Singapore</td>\n",
       "      <td>-0.817539</td>\n",
       "      <td>3.754254e-10</td>\n",
       "    </tr>\n",
       "    <tr>\n",
       "      <th>63</th>\n",
       "      <td>Slovenia</td>\n",
       "      <td>-0.907872</td>\n",
       "      <td>3.709443e-15</td>\n",
       "    </tr>\n",
       "    <tr>\n",
       "      <th>64</th>\n",
       "      <td>Spain</td>\n",
       "      <td>-0.050206</td>\n",
       "      <td>7.646821e-01</td>\n",
       "    </tr>\n",
       "    <tr>\n",
       "      <th>65</th>\n",
       "      <td>Sri Lanka</td>\n",
       "      <td>-0.928250</td>\n",
       "      <td>4.887205e-17</td>\n",
       "    </tr>\n",
       "    <tr>\n",
       "      <th>66</th>\n",
       "      <td>Suriname</td>\n",
       "      <td>0.161129</td>\n",
       "      <td>3.338329e-01</td>\n",
       "    </tr>\n",
       "    <tr>\n",
       "      <th>67</th>\n",
       "      <td>Sweden</td>\n",
       "      <td>-0.874759</td>\n",
       "      <td>7.045077e-13</td>\n",
       "    </tr>\n",
       "    <tr>\n",
       "      <th>68</th>\n",
       "      <td>Switzerland</td>\n",
       "      <td>-0.985592</td>\n",
       "      <td>2.205789e-29</td>\n",
       "    </tr>\n",
       "    <tr>\n",
       "      <th>69</th>\n",
       "      <td>Thailand</td>\n",
       "      <td>-0.481092</td>\n",
       "      <td>2.230891e-03</td>\n",
       "    </tr>\n",
       "    <tr>\n",
       "      <th>70</th>\n",
       "      <td>Trinidad and Tobago</td>\n",
       "      <td>0.581935</td>\n",
       "      <td>1.269365e-04</td>\n",
       "    </tr>\n",
       "    <tr>\n",
       "      <th>71</th>\n",
       "      <td>Turkmenistan</td>\n",
       "      <td>-0.790391</td>\n",
       "      <td>3.587131e-09</td>\n",
       "    </tr>\n",
       "    <tr>\n",
       "      <th>72</th>\n",
       "      <td>Ukraine</td>\n",
       "      <td>0.504109</td>\n",
       "      <td>1.251196e-03</td>\n",
       "    </tr>\n",
       "    <tr>\n",
       "      <th>73</th>\n",
       "      <td>United Kingdom</td>\n",
       "      <td>-0.738538</td>\n",
       "      <td>1.202251e-07</td>\n",
       "    </tr>\n",
       "    <tr>\n",
       "      <th>74</th>\n",
       "      <td>Uruguay</td>\n",
       "      <td>0.901576</td>\n",
       "      <td>1.156130e-14</td>\n",
       "    </tr>\n",
       "    <tr>\n",
       "      <th>75</th>\n",
       "      <td>Uzbekistan</td>\n",
       "      <td>-0.873312</td>\n",
       "      <td>8.557246e-13</td>\n",
       "    </tr>\n",
       "  </tbody>\n",
       "</table>\n",
       "<p>76 rows × 3 columns</p>\n",
       "</div>"
      ],
      "text/plain": [
       "                country       cor             p\n",
       "0               Albania  0.018828  9.106671e-01\n",
       "1             Argentina  0.216133  1.924738e-01\n",
       "2               Armenia  0.488656  1.852903e-03\n",
       "3                 Aruba  0.396719  1.366383e-02\n",
       "4             Australia -0.472288  2.754609e-03\n",
       "5               Austria -0.968260  2.859634e-23\n",
       "6            Azerbaijan -0.932852  1.539755e-17\n",
       "7               Bahrain -0.387078  1.635823e-02\n",
       "8              Barbados -0.518992  8.421397e-04\n",
       "9               Belarus  0.240837  1.452377e-01\n",
       "10              Belgium       NaN  1.000000e+00\n",
       "11               Belize  0.667232  4.760917e-06\n",
       "12               Brazil  0.899663  1.608728e-14\n",
       "13    Brunei Darussalam -0.789007  3.988741e-09\n",
       "14             Bulgaria  0.842256  3.390144e-11\n",
       "15               Canada -0.958781  2.921483e-21\n",
       "16                Chile  0.857917  5.909517e-12\n",
       "17             Colombia  0.673529  3.582278e-06\n",
       "18           Costa Rica  0.447240  4.874312e-03\n",
       "19              Croatia  0.793528  2.811769e-09\n",
       "20                 Cuba -0.967581  4.164480e-23\n",
       "21       Czech Republic -0.333660  4.063950e-02\n",
       "22              Denmark -0.929384  3.703548e-17\n",
       "23              Ecuador  0.611941  4.457384e-05\n",
       "24          El Salvador -0.911909  1.712700e-15\n",
       "25              Estonia  0.632410  2.048670e-05\n",
       "26              Finland -0.982110  1.055943e-27\n",
       "27               France -0.926490  7.449596e-17\n",
       "28              Georgia  0.382571  1.776336e-02\n",
       "29              Germany -0.809438  7.642072e-10\n",
       "..                  ...       ...           ...\n",
       "46             Maldives -0.907673  3.849325e-15\n",
       "47                Malta  0.835205  7.006185e-11\n",
       "48            Mauritius -0.068918  6.809722e-01\n",
       "49               Mexico  0.976233  1.671749e-25\n",
       "50          Netherlands -0.688877  1.738995e-06\n",
       "51          New Zealand  0.022669  8.925409e-01\n",
       "52               Norway -0.873334  8.532020e-13\n",
       "53               Panama  0.517882  8.679214e-04\n",
       "54             Paraguay  0.942407  1.051709e-18\n",
       "55          Philippines  0.989225  1.215599e-31\n",
       "56               Poland  0.268694  1.028555e-01\n",
       "57             Portugal -0.191740  2.488203e-01\n",
       "58          Puerto Rico -0.576300  1.527703e-04\n",
       "59              Romania  0.554150  3.065685e-04\n",
       "60   Russian Federation  0.193054  2.455313e-01\n",
       "61               Serbia       NaN  1.000000e+00\n",
       "62            Singapore -0.817539  3.754254e-10\n",
       "63             Slovenia -0.907872  3.709443e-15\n",
       "64                Spain -0.050206  7.646821e-01\n",
       "65            Sri Lanka -0.928250  4.887205e-17\n",
       "66             Suriname  0.161129  3.338329e-01\n",
       "67               Sweden -0.874759  7.045077e-13\n",
       "68          Switzerland -0.985592  2.205789e-29\n",
       "69             Thailand -0.481092  2.230891e-03\n",
       "70  Trinidad and Tobago  0.581935  1.269365e-04\n",
       "71         Turkmenistan -0.790391  3.587131e-09\n",
       "72              Ukraine  0.504109  1.251196e-03\n",
       "73       United Kingdom -0.738538  1.202251e-07\n",
       "74              Uruguay  0.901576  1.156130e-14\n",
       "75           Uzbekistan -0.873312  8.557246e-13\n",
       "\n",
       "[76 rows x 3 columns]"
      ]
     },
     "execution_count": 79,
     "metadata": {},
     "output_type": "execute_result"
    }
   ],
   "source": [
    "pd_suicide_rate_pop_dens_cor"
   ]
  },
  {
   "cell_type": "code",
   "execution_count": 80,
   "metadata": {
    "ExecuteTime": {
     "end_time": "2019-01-06T16:16:34.685232Z",
     "start_time": "2019-01-06T16:16:34.662017Z"
    }
   },
   "outputs": [
    {
     "name": "stdout",
     "output_type": "stream",
     "text": [
      "(17, 3)\n",
      "(10, 3) (21, 3) (0, 3) (0, 3) (17, 3) (11, 3)\n",
      "12         Brazil\n",
      "14       Bulgaria\n",
      "16          Chile\n",
      "19        Croatia\n",
      "34        Hungary\n",
      "47          Malta\n",
      "49         Mexico\n",
      "54       Paraguay\n",
      "55    Philippines\n",
      "74        Uruguay\n",
      "Name: country, dtype: object \n",
      " 5               Austria\n",
      "6            Azerbaijan\n",
      "13    Brunei Darussalam\n",
      "15               Canada\n",
      "20                 Cuba\n",
      "22              Denmark\n",
      "24          El Salvador\n",
      "26              Finland\n",
      "27               France\n",
      "29              Germany\n",
      "38                Italy\n",
      "46             Maldives\n",
      "52               Norway\n",
      "62            Singapore\n",
      "63             Slovenia\n",
      "65            Sri Lanka\n",
      "67               Sweden\n",
      "68          Switzerland\n",
      "71         Turkmenistan\n",
      "73       United Kingdom\n",
      "75           Uzbekistan\n",
      "Name: country, dtype: object \n",
      " Series([], Name: country, dtype: object) \n",
      " Series([], Name: country, dtype: object) \n",
      " 2                 Armenia\n",
      "3                   Aruba\n",
      "11                 Belize\n",
      "17               Colombia\n",
      "18             Costa Rica\n",
      "23                Ecuador\n",
      "25                Estonia\n",
      "28                Georgia\n",
      "32              Guatemala\n",
      "36                Ireland\n",
      "39                Jamaica\n",
      "43                 Latvia\n",
      "44              Lithuania\n",
      "53                 Panama\n",
      "59                Romania\n",
      "70    Trinidad and Tobago\n",
      "72                Ukraine\n",
      "Name: country, dtype: object \n",
      " 4          Australia\n",
      "7            Bahrain\n",
      "8           Barbados\n",
      "21    Czech Republic\n",
      "31           Grenada\n",
      "33            Guyana\n",
      "37            Israel\n",
      "41        Kazakhstan\n",
      "50       Netherlands\n",
      "58       Puerto Rico\n",
      "69          Thailand\n",
      "Name: country, dtype: object\n",
      "0                Albania\n",
      "1              Argentina\n",
      "9                Belarus\n",
      "10               Belgium\n",
      "30                Greece\n",
      "35               Iceland\n",
      "40                 Japan\n",
      "42                Kuwait\n",
      "45            Luxembourg\n",
      "48             Mauritius\n",
      "51           New Zealand\n",
      "56                Poland\n",
      "57              Portugal\n",
      "60    Russian Federation\n",
      "61                Serbia\n",
      "64                 Spain\n",
      "66              Suriname\n",
      "Name: country, dtype: object\n"
     ]
    }
   ],
   "source": [
    "large = pd_suicide_rate_pop_dens_cor[(pd_suicide_rate_pop_dens_cor.p <= 0.05) & (pd_suicide_rate_pop_dens_cor.cor >= 0.7)]\n",
    "small = pd_suicide_rate_pop_dens_cor[(pd_suicide_rate_pop_dens_cor.p <= 0.05) & (pd_suicide_rate_pop_dens_cor.cor <= 0.3) & (pd_suicide_rate_pop_dens_cor.cor >=0)]\n",
    "median = pd_suicide_rate_pop_dens_cor[(pd_suicide_rate_pop_dens_cor.p <= 0.05) & (pd_suicide_rate_pop_dens_cor.cor < 0.7) & (pd_suicide_rate_pop_dens_cor.cor > 0.3)]\n",
    "\n",
    "m_large = pd_suicide_rate_pop_dens_cor[(pd_suicide_rate_pop_dens_cor.p <= 0.05) & (pd_suicide_rate_pop_dens_cor.cor <= -0.7)]\n",
    "m_small = pd_suicide_rate_pop_dens_cor[(pd_suicide_rate_pop_dens_cor.p <= 0.05) & (pd_suicide_rate_pop_dens_cor.cor >= -0.3) & (pd_suicide_rate_pop_dens_cor.cor < 0)]\n",
    "m_median = pd_suicide_rate_pop_dens_cor[(pd_suicide_rate_pop_dens_cor.p <= 0.05) & (pd_suicide_rate_pop_dens_cor.cor > -0.7) & (pd_suicide_rate_pop_dens_cor.cor < -0.3)]\n",
    "\n",
    "rest = pd_suicide_rate_pop_dens_cor[(pd_suicide_rate_pop_dens_cor.p > 0.05)]\n",
    "print(rest.shape)\n",
    "print(large.shape, m_large.shape, small.shape, m_small.shape, median.shape, m_median.shape)\n",
    "print(large.country,'\\n', m_large.country, '\\n', small.country,'\\n', m_small.country,'\\n', median.country,'\\n', m_median.country)\n",
    "print(rest.country)\n"
   ]
  },
  {
   "cell_type": "code",
   "execution_count": 82,
   "metadata": {
    "ExecuteTime": {
     "end_time": "2019-01-06T16:17:10.230112Z",
     "start_time": "2019-01-06T16:17:10.223358Z"
    }
   },
   "outputs": [],
   "source": [
    "pd_suicide_rate_pop_dens_cor.to_csv(\"suicide_rate_pop_dens_cor.csv\", index=False)"
   ]
  },
  {
   "cell_type": "code",
   "execution_count": null,
   "metadata": {},
   "outputs": [],
   "source": []
  }
 ],
 "metadata": {
  "kernelspec": {
   "display_name": "Python 3",
   "language": "python",
   "name": "python3"
  },
  "language_info": {
   "codemirror_mode": {
    "name": "ipython",
    "version": 3
   },
   "file_extension": ".py",
   "mimetype": "text/x-python",
   "name": "python",
   "nbconvert_exporter": "python",
   "pygments_lexer": "ipython3",
   "version": "3.7.0"
  },
  "toc": {
   "base_numbering": 1,
   "nav_menu": {},
   "number_sections": true,
   "sideBar": true,
   "skip_h1_title": false,
   "title_cell": "Table of Contents",
   "title_sidebar": "Contents",
   "toc_cell": false,
   "toc_position": {},
   "toc_section_display": true,
   "toc_window_display": false
  },
  "varInspector": {
   "cols": {
    "lenName": 16,
    "lenType": 16,
    "lenVar": 40
   },
   "kernels_config": {
    "python": {
     "delete_cmd_postfix": "",
     "delete_cmd_prefix": "del ",
     "library": "var_list.py",
     "varRefreshCmd": "print(var_dic_list())"
    },
    "r": {
     "delete_cmd_postfix": ") ",
     "delete_cmd_prefix": "rm(",
     "library": "var_list.r",
     "varRefreshCmd": "cat(var_dic_list()) "
    }
   },
   "position": {
    "height": "391px",
    "left": "1129px",
    "right": "20px",
    "top": "120px",
    "width": "360px"
   },
   "types_to_exclude": [
    "module",
    "function",
    "builtin_function_or_method",
    "instance",
    "_Feature"
   ],
   "window_display": false
  }
 },
 "nbformat": 4,
 "nbformat_minor": 2
}
